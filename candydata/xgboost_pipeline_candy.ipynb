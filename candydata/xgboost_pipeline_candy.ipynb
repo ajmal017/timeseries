{
 "cells": [
  {
   "cell_type": "code",
   "execution_count": 1,
   "metadata": {},
   "outputs": [],
   "source": [
    "import numpy as np\n",
    "import pandas as pd\n",
    "import matplotlib.pyplot as plt"
   ]
  },
  {
   "cell_type": "code",
   "execution_count": 2,
   "metadata": {},
   "outputs": [],
   "source": [
    "#from preprocess import train_test_seq#, scale_df\n",
    "from sklearn.preprocessing import MinMaxScaler, StandardScaler\n",
    "from sklearn.linear_model import Lasso\n",
    "from sklearn.ensemble import RandomForestRegressor\n",
    "\n",
    "from sklearn.model_selection import GridSearchCV, TimeSeriesSplit\n",
    "from sklearn.pipeline import Pipeline"
   ]
  },
  {
   "cell_type": "code",
   "execution_count": 3,
   "metadata": {},
   "outputs": [],
   "source": [
    "import xgboost as xgb"
   ]
  },
  {
   "cell_type": "code",
   "execution_count": 4,
   "metadata": {},
   "outputs": [],
   "source": [
    "from sklearn.metrics import mean_absolute_error, mean_squared_error\n",
    "from sklearn.metrics import r2_score, median_absolute_error\n",
    "from sklearn.metrics import make_scorer"
   ]
  },
  {
   "cell_type": "code",
   "execution_count": 5,
   "metadata": {},
   "outputs": [],
   "source": [
    "def mean_absolute_percentage_error(y_true, y_pred): \n",
    "    return np.mean(np.abs((y_true - y_pred) / y_true)) * 100 \n",
    "\n",
    "mape = make_scorer(mean_absolute_percentage_error, \n",
    "                   greater_is_better=False)"
   ]
  },
  {
   "cell_type": "code",
   "execution_count": 6,
   "metadata": {},
   "outputs": [],
   "source": [
    "# SMAPE is typically defined such that its maximum value\n",
    "# (for y_pred = 0) will be 200% \n",
    "# I have removed the factor 2 to reduce it to [0,100] range\n",
    "# https://en.wikipedia.org/wiki/Symmetric_mean_absolute_percentage_error\n",
    "\n",
    "def symmetric_mape(y_true, y_pred, eps = 1e-8):\n",
    "    summ = ((np.abs(y_true) + np.abs(y_pred)) + eps)\n",
    "    return np.mean(np.abs(y_pred - y_true) / summ) * 100\n",
    "\n",
    "smape = make_scorer(symmetric_mape, \n",
    "                    greater_is_better=False)"
   ]
  },
  {
   "cell_type": "code",
   "execution_count": 7,
   "metadata": {},
   "outputs": [],
   "source": [
    "def print_scores(y_test, y_pred):\n",
    "    print(f\"R2 score: {r2_score(y_test, y_pred)}\")\n",
    "    print(f\"MSE score: {mean_squared_error(y_test, y_pred)}\")\n",
    "    print(f\"MAE score: {mean_absolute_error(y_test, y_pred)}\")\n",
    "    print(f\"Median AE score: {median_absolute_error(y_test, y_pred)}\")\n",
    "    print(f\"MAPE score: {mean_absolute_percentage_error(y_test, y_pred)}\")\n",
    "    print(f\"SMAPE score: {symmetric_mape(y_test, y_pred)}\")"
   ]
  },
  {
   "cell_type": "code",
   "execution_count": 8,
   "metadata": {},
   "outputs": [
    {
     "data": {
      "text/html": [
       "<div>\n",
       "<style scoped>\n",
       "    .dataframe tbody tr th:only-of-type {\n",
       "        vertical-align: middle;\n",
       "    }\n",
       "\n",
       "    .dataframe tbody tr th {\n",
       "        vertical-align: top;\n",
       "    }\n",
       "\n",
       "    .dataframe thead th {\n",
       "        text-align: right;\n",
       "    }\n",
       "</style>\n",
       "<table border=\"1\" class=\"dataframe\">\n",
       "  <thead>\n",
       "    <tr style=\"text-align: right;\">\n",
       "      <th></th>\n",
       "      <th>IPG3113N</th>\n",
       "    </tr>\n",
       "    <tr>\n",
       "      <th>date</th>\n",
       "      <th></th>\n",
       "    </tr>\n",
       "  </thead>\n",
       "  <tbody>\n",
       "    <tr>\n",
       "      <th>1972-01-01</th>\n",
       "      <td>85.598809</td>\n",
       "    </tr>\n",
       "    <tr>\n",
       "      <th>1972-02-01</th>\n",
       "      <td>71.741404</td>\n",
       "    </tr>\n",
       "    <tr>\n",
       "      <th>1972-03-01</th>\n",
       "      <td>65.948809</td>\n",
       "    </tr>\n",
       "    <tr>\n",
       "      <th>1972-04-01</th>\n",
       "      <td>64.490724</td>\n",
       "    </tr>\n",
       "    <tr>\n",
       "      <th>1972-05-01</th>\n",
       "      <td>64.933842</td>\n",
       "    </tr>\n",
       "  </tbody>\n",
       "</table>\n",
       "</div>"
      ],
      "text/plain": [
       "             IPG3113N\n",
       "date                 \n",
       "1972-01-01  85.598809\n",
       "1972-02-01  71.741404\n",
       "1972-03-01  65.948809\n",
       "1972-04-01  64.490724\n",
       "1972-05-01  64.933842"
      ]
     },
     "execution_count": 8,
     "metadata": {},
     "output_type": "execute_result"
    }
   ],
   "source": [
    "# Load in the time series\n",
    "candy = pd.read_csv('candy_production.csv', \n",
    "            index_col='date',\n",
    "            parse_dates=True)\n",
    "candy.head()"
   ]
  },
  {
   "cell_type": "code",
   "execution_count": 9,
   "metadata": {},
   "outputs": [
    {
     "data": {
      "text/plain": [
       "(564, 1)"
      ]
     },
     "execution_count": 9,
     "metadata": {},
     "output_type": "execute_result"
    }
   ],
   "source": [
    "candy.shape"
   ]
  },
  {
   "cell_type": "markdown",
   "metadata": {},
   "source": [
    "## Train/Test split"
   ]
  },
  {
   "cell_type": "code",
   "execution_count": 10,
   "metadata": {},
   "outputs": [
    {
     "data": {
      "image/png": "[encoded data removed]",
      "text/plain": [
       "<Figure size 432x288 with 1 Axes>"
      ]
     },
     "metadata": {
      "needs_background": "light"
     },
     "output_type": "display_data"
    }
   ],
   "source": [
    "# Split the data into a train and test set\n",
    "#df_train, df_test = candy.iloc[:-250], candy.iloc[-250:]\n",
    "df_train, df_test = candy.iloc[:-200], candy.iloc[-200:]\n",
    "\n",
    "# Create an axis\n",
    "fig, ax = plt.subplots()\n",
    "\n",
    "# Plot the train and test setsa dn show\n",
    "df_train.plot(ax=ax)\n",
    "df_test.plot(ax=ax)\n",
    "#plt.axvline(x=4000, color='k', linestyle='--')\n",
    "ax.legend([\"Train\", \"Test\"]);\n",
    "plt.show()"
   ]
  },
  {
   "cell_type": "markdown",
   "metadata": {},
   "source": [
    "Univariate forecasting requires using the same sequence as features and target. Here is one choice where I do not use the test dataframe.\n",
    "\n",
    "**Features**: 0-100 time points\n",
    "\n",
    "**Target**  : 100-200 time points"
   ]
  },
  {
   "cell_type": "code",
   "execution_count": 11,
   "metadata": {},
   "outputs": [],
   "source": [
    "X_train = df_train[-300:-200].to_numpy().reshape(-1,1)\n",
    "X_test  = df_train[-200:-100].to_numpy().reshape(-1,1)\n",
    "\n",
    "y_train = df_train[-200:-100].to_numpy().ravel()\n",
    "y_test  = df_train[-100:].to_numpy().ravel() \n",
    "\n",
    "#X_train = df_train[-200:-100].to_numpy().reshape(-1,1)\n",
    "#X_test  = df_test[-100:-50].to_numpy().reshape(-1,1)\n",
    "\n",
    "#y_train = df_train[-200:-100].to_numpy().ravel()\n",
    "#y_test  = df_test[-100:-50].to_numpy().ravel() "
   ]
  },
  {
   "cell_type": "markdown",
   "metadata": {},
   "source": [
    "## Baseline"
   ]
  },
  {
   "cell_type": "markdown",
   "metadata": {},
   "source": [
    "### 1. Last value"
   ]
  },
  {
   "cell_type": "code",
   "execution_count": 12,
   "metadata": {},
   "outputs": [],
   "source": [
    "y_base1 = np.copy(y_test)\n",
    "y_base1[:] = y_test[0]"
   ]
  },
  {
   "cell_type": "code",
   "execution_count": 13,
   "metadata": {},
   "outputs": [
    {
     "name": "stdout",
     "output_type": "stream",
     "text": [
      "R2 score: -0.44501992071288243\n",
      "MSE score: 228.26728138975366\n",
      "MAE score: 12.076231907505443\n",
      "Median AE score: 9.37603926045103\n",
      "MAPE score: 10.114830034905106\n",
      "SMAPE score: 5.356733289578664\n"
     ]
    }
   ],
   "source": [
    "print_scores(y_test, y_base1)"
   ]
  },
  {
   "cell_type": "markdown",
   "metadata": {},
   "source": [
    "### 2. Rolling mean"
   ]
  },
  {
   "cell_type": "code",
   "execution_count": 14,
   "metadata": {},
   "outputs": [],
   "source": [
    "candy_rolling_mean = candy.rolling(20).mean()\n",
    "\n",
    "y_base2 = candy_rolling_mean.iloc[-100:].to_numpy()"
   ]
  },
  {
   "cell_type": "code",
   "execution_count": 15,
   "metadata": {},
   "outputs": [
    {
     "name": "stdout",
     "output_type": "stream",
     "text": [
      "R2 score: -0.298747826933458\n",
      "MSE score: 205.1609333653304\n",
      "MAE score: 10.642681908653898\n",
      "Median AE score: 7.633135193490908\n",
      "MAPE score: 10.620370484183471\n",
      "SMAPE score: 5.58266486675679\n"
     ]
    }
   ],
   "source": [
    "print_scores(y_test, y_base2)"
   ]
  },
  {
   "cell_type": "markdown",
   "metadata": {},
   "source": [
    "## Pipeline"
   ]
  },
  {
   "cell_type": "code",
   "execution_count": 16,
   "metadata": {},
   "outputs": [],
   "source": [
    "pipe_lasso = Pipeline([\n",
    "                       #('scale', MinMaxScaler(feature_range=(0, 1))),\n",
    "                       ('scale', StandardScaler()),\n",
    "                       ('lasso', Lasso())\n",
    "                       ])\n",
    "\n",
    "pipe_rf = Pipeline([\n",
    "                    #('scale', MinMaxScaler(feature_range=(0, 1))),\n",
    "                    ('scale', StandardScaler()),\n",
    "                    ('rf', RandomForestRegressor(random_state=42))\n",
    "                    ])\n",
    "\n",
    "pipe_xgb = Pipeline([\n",
    "                    #('scale', MinMaxScaler(feature_range=(0, 1))),\n",
    "                    ('scale', StandardScaler()),\n",
    "                    ('xgb', xgb.XGBRegressor())\n",
    "                    ])"
   ]
  },
  {
   "cell_type": "code",
   "execution_count": 17,
   "metadata": {},
   "outputs": [],
   "source": [
    "params_lasso = {'lasso__alpha': np.logspace(-4,1,10)}\n",
    "              \n",
    "params_rf = {\n",
    "             #'rf__criterion': ['mae', 'mse'],\n",
    "             'rf__max_depth': [2, 4, 8],\n",
    "             #'rf__max_features': ['auto', 'sqrt', None],\n",
    "             'rf__min_samples_leaf': [2, 4, 8],\n",
    "             'rf__n_estimators': [8, 16, 32, 64]\n",
    "            }\n",
    "\n",
    "params_xgb = {\n",
    "              'xgb__learning_rate': [0.001,0.01,0.1,0.25],\n",
    "              'xgb__max_depth': [4,8,16],\n",
    "              'xgb__subsample': [0.6,0.8],\n",
    "              'xgb__colsample_bytree': [0.4,0.6,0.8],\n",
    "              'xgb__n_estimators': [32,64,128],\n",
    "              'xgb__seed': [1337]\n",
    "             }"
   ]
  },
  {
   "cell_type": "markdown",
   "metadata": {},
   "source": [
    "## GridSearchCV"
   ]
  },
  {
   "cell_type": "markdown",
   "metadata": {},
   "source": [
    "### LASSO"
   ]
  },
  {
   "cell_type": "code",
   "execution_count": 18,
   "metadata": {},
   "outputs": [],
   "source": [
    "my_cv = TimeSeriesSplit(n_splits=2).split(X_train)\n",
    "\n",
    "gs_lasso = GridSearchCV(pipe_lasso,\n",
    "                        param_grid=params_lasso,\n",
    "                        scoring='neg_mean_absolute_error',\n",
    "                        cv=my_cv,\n",
    "                        n_jobs=4) "
   ]
  },
  {
   "cell_type": "code",
   "execution_count": 19,
   "metadata": {},
   "outputs": [
    {
     "name": "stdout",
     "output_type": "stream",
     "text": [
      "Tuned Lasso Alpha: {'lasso__alpha': 2.782559402207126}\n",
      "Tuned Lasso Score: -17.29391429915223\n"
     ]
    }
   ],
   "source": [
    "# Fit to the training set\n",
    "gs_lasso.fit(X_train,y_train)\n",
    "\n",
    "# Predict\n",
    "y_pred_lasso = gs_lasso.predict(X_test)\n",
    "\n",
    "# Compute and print the metrics\n",
    "print(f\"Tuned Lasso Alpha: {gs_lasso.best_params_}\")\n",
    "print(f\"Tuned Lasso Score: {gs_lasso.score(X_test, y_test)}\")"
   ]
  },
  {
   "cell_type": "code",
   "execution_count": 20,
   "metadata": {},
   "outputs": [
    {
     "name": "stdout",
     "output_type": "stream",
     "text": [
      "R2 score: -1.6596253138861394\n",
      "MSE score: 420.13638096881834\n",
      "MAE score: 17.29391429915223\n",
      "Median AE score: 16.92541778766853\n",
      "MAPE score: 14.43984346357555\n",
      "SMAPE score: 7.970033459916509\n"
     ]
    }
   ],
   "source": [
    "print_scores(y_test, y_pred_lasso)"
   ]
  },
  {
   "cell_type": "markdown",
   "metadata": {},
   "source": [
    "### Random Forests"
   ]
  },
  {
   "cell_type": "code",
   "execution_count": 21,
   "metadata": {},
   "outputs": [],
   "source": [
    "my_cv = TimeSeriesSplit(n_splits=2).split(X_train)\n",
    "\n",
    "gs_rf = GridSearchCV(estimator=pipe_rf,\n",
    "                     param_grid=params_rf,\n",
    "                     scoring='neg_mean_absolute_error',\n",
    "                     cv=my_cv, \n",
    "                     n_jobs=4)"
   ]
  },
  {
   "cell_type": "code",
   "execution_count": 22,
   "metadata": {},
   "outputs": [
    {
     "name": "stdout",
     "output_type": "stream",
     "text": [
      "Tuned RF params: {'rf__max_depth': 2, 'rf__min_samples_leaf': 8, 'rf__n_estimators': 16}\n",
      "Tuned RF Score:  -19.740117799280988\n"
     ]
    }
   ],
   "source": [
    "# Fit to the training set\n",
    "gs_rf.fit(X_train,y_train)\n",
    "\n",
    "# Predict\n",
    "y_pred_rf = gs_rf.predict(X_test)\n",
    "\n",
    "# Compute and print the metrics\n",
    "print(f\"Tuned RF params: {gs_rf.best_params_}\")\n",
    "print(f\"Tuned RF Score:  {gs_rf.score(X_test, y_test)}\")"
   ]
  },
  {
   "cell_type": "code",
   "execution_count": 23,
   "metadata": {},
   "outputs": [
    {
     "name": "stdout",
     "output_type": "stream",
     "text": [
      "R2 score: -2.4912056251799735\n",
      "MSE score: 551.4996751320172\n",
      "MAE score: 19.740117799280988\n",
      "Median AE score: 17.706203309761726\n",
      "MAPE score: 16.456281090024376\n",
      "SMAPE score: 9.229567931690722\n"
     ]
    }
   ],
   "source": [
    "print_scores(y_test, y_pred_rf)"
   ]
  },
  {
   "cell_type": "markdown",
   "metadata": {},
   "source": [
    "### XGBoost"
   ]
  },
  {
   "cell_type": "code",
   "execution_count": 24,
   "metadata": {},
   "outputs": [],
   "source": [
    "my_cv = TimeSeriesSplit(n_splits=2).split(X_train)\n",
    "\n",
    "#xgb.XGBRegressor()\n",
    "gs_xgb = GridSearchCV(estimator=pipe_xgb,\n",
    "                     param_grid=params_xgb,\n",
    "                     scoring='neg_mean_absolute_error',\n",
    "                     cv=my_cv, \n",
    "                     n_jobs=4)"
   ]
  },
  {
   "cell_type": "code",
   "execution_count": 25,
   "metadata": {},
   "outputs": [
    {
     "name": "stderr",
     "output_type": "stream",
     "text": [
      "/home/fnauman/anaconda3/envs/plotly/lib/python3.7/site-packages/joblib/externals/loky/process_executor.py:706: UserWarning: A worker stopped while some jobs were given to the executor. This can be caused by a too short worker timeout or by a memory leak.\n",
      "  \"timeout or by a memory leak.\", UserWarning\n"
     ]
    },
    {
     "name": "stdout",
     "output_type": "stream",
     "text": [
      "[09:31:24] WARNING: /workspace/src/objective/regression_obj.cu:152: reg:linear is now deprecated in favor of reg:squarederror.\n",
      "Tuned XGB params: {'xgb__colsample_bytree': 0.4, 'xgb__learning_rate': 0.1, 'xgb__max_depth': 4, 'xgb__n_estimators': 64, 'xgb__seed': 1337, 'xgb__subsample': 0.6}\n",
      "Tuned XGB Score:  -20.49399834181531\n"
     ]
    }
   ],
   "source": [
    "# Fit to the training set\n",
    "gs_xgb.fit(X_train,y_train)\n",
    "\n",
    "# Predict\n",
    "y_pred_xgb = gs_xgb.predict(X_test)\n",
    "\n",
    "# Compute and print the metrics\n",
    "print(f\"Tuned XGB params: {gs_xgb.best_params_}\")\n",
    "print(f\"Tuned XGB Score:  {gs_xgb.score(X_test, y_test)}\")"
   ]
  },
  {
   "cell_type": "code",
   "execution_count": 26,
   "metadata": {},
   "outputs": [
    {
     "name": "stdout",
     "output_type": "stream",
     "text": [
      "R2 score: -2.7632140988299243\n",
      "MSE score: 594.4683802031687\n",
      "MAE score: 20.49399834181531\n",
      "Median AE score: 18.77203540674435\n",
      "MAPE score: 17.096887003683783\n",
      "SMAPE score: 9.6461764647038\n"
     ]
    }
   ],
   "source": [
    "print_scores(y_test, y_pred_xgb)"
   ]
  },
  {
   "cell_type": "markdown",
   "metadata": {},
   "source": [
    "## Plot `y_pred`"
   ]
  },
  {
   "cell_type": "code",
   "execution_count": 27,
   "metadata": {},
   "outputs": [
    {
     "data": {
      "text/plain": [
       "((100,), (100,), (100,))"
      ]
     },
     "execution_count": 27,
     "metadata": {},
     "output_type": "execute_result"
    }
   ],
   "source": [
    "y_pred_lasso.shape, y_pred_rf.shape, y_pred_xgb.shape"
   ]
  },
  {
   "cell_type": "code",
   "execution_count": 28,
   "metadata": {},
   "outputs": [
    {
     "data": {
      "text/plain": [
       "<matplotlib.legend.Legend at 0x7ff384109310>"
      ]
     },
     "execution_count": 28,
     "metadata": {},
     "output_type": "execute_result"
    },
    {
     "data": {
      "image/png": "[encoded data removed]",
      "text/plain": [
       "<Figure size 432x288 with 1 Axes>"
      ]
     },
     "metadata": {
      "needs_background": "light"
     },
     "output_type": "display_data"
    }
   ],
   "source": [
    "#t_test = np.linspace(4000, 4000+tst_sz, tst_sz)\n",
    "\n",
    "plt.plot(y_pred_lasso, 'b:', label='Lasso', alpha=0.5)\n",
    "plt.plot(y_pred_rf, 'g--', label='Random Forest', alpha=0.7)\n",
    "plt.plot(y_pred_xgb, 'k', label='XGBoost')\n",
    "plt.plot(y_test, 'r', label='Actual', alpha=0.3)\n",
    "#plt.plot(y_base1, 'k-.', label='Base1', alpha=0.3)\n",
    "#plt.plot(y_base2, 'k-.', label='Base2', alpha=0.4)\n",
    "plt.legend()"
   ]
  },
  {
   "cell_type": "markdown",
   "metadata": {},
   "source": [
    "**Conclusion** (MAPE scores): Lasso (14), RF (16), XGBoost (17) are struggling to do better than baseline scores of 10. The first 20 or so forecasting steps are doing relatively better but the longer evolution is hard to predict.\n",
    "\n",
    "The reason could be small dataset. I also have not explored hyperparameter optimization extensively."
   ]
  }
 ],
 "metadata": {
  "kernelspec": {
   "display_name": "Python 3",
   "language": "python",
   "name": "python3"
  },
  "language_info": {
   "codemirror_mode": {
    "name": "ipython",
    "version": 3
   },
   "file_extension": ".py",
   "mimetype": "text/x-python",
   "name": "python",
   "nbconvert_exporter": "python",
   "pygments_lexer": "ipython3",
   "version": "3.7.4"
  }
 },
 "nbformat": 4,
 "nbformat_minor": 4
}
