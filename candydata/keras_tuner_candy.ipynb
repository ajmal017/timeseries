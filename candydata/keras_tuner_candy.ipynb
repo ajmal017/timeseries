{
 "cells": [
  {
   "cell_type": "markdown",
   "metadata": {},
   "source": [
    "**Install keras-tuner**"
   ]
  },
  {
   "cell_type": "code",
   "execution_count": 1,
   "metadata": {},
   "outputs": [],
   "source": [
    "#!git clone https://github.com/keras-team/keras-tuner.git\n",
    "#!pip install keras-tuner/"
   ]
  },
  {
   "cell_type": "code",
   "execution_count": 2,
   "metadata": {},
   "outputs": [],
   "source": [
    "import tensorflow as tf\n",
    "from kerastuner import RandomSearch\n",
    "from tensorflow import keras\n",
    "from tensorflow.keras import layers\n",
    "\n",
    "TRIALS = 3  # number of models to train\n",
    "EPOCHS = 2  # number of epoch per model"
   ]
  },
  {
   "cell_type": "markdown",
   "metadata": {},
   "source": [
    "**Candy data**\n",
    "\n",
    "Source: https://assets.datacamp.com/production/repositories/4567/datasets/0707fe926ef5f110ed889fcd2a09c9417e2ffbb6/candy_production.csv"
   ]
  },
  {
   "cell_type": "code",
   "execution_count": 3,
   "metadata": {},
   "outputs": [],
   "source": [
    "# Uncomment to download the data\n",
    "#!wget https://assets.datacamp.com/production/repositories/4567/datasets/0707fe926ef5f110ed889fcd2a09c9417e2ffbb6/candy_production.csv"
   ]
  },
  {
   "cell_type": "code",
   "execution_count": 4,
   "metadata": {},
   "outputs": [
    {
     "data": {
      "text/html": [
       "<div>\n",
       "<style scoped>\n",
       "    .dataframe tbody tr th:only-of-type {\n",
       "        vertical-align: middle;\n",
       "    }\n",
       "\n",
       "    .dataframe tbody tr th {\n",
       "        vertical-align: top;\n",
       "    }\n",
       "\n",
       "    .dataframe thead th {\n",
       "        text-align: right;\n",
       "    }\n",
       "</style>\n",
       "<table border=\"1\" class=\"dataframe\">\n",
       "  <thead>\n",
       "    <tr style=\"text-align: right;\">\n",
       "      <th></th>\n",
       "      <th>IPG3113N</th>\n",
       "    </tr>\n",
       "    <tr>\n",
       "      <th>date</th>\n",
       "      <th></th>\n",
       "    </tr>\n",
       "  </thead>\n",
       "  <tbody>\n",
       "    <tr>\n",
       "      <td>1972-01-01</td>\n",
       "      <td>85.598809</td>\n",
       "    </tr>\n",
       "    <tr>\n",
       "      <td>1972-02-01</td>\n",
       "      <td>71.741404</td>\n",
       "    </tr>\n",
       "    <tr>\n",
       "      <td>1972-03-01</td>\n",
       "      <td>65.948809</td>\n",
       "    </tr>\n",
       "    <tr>\n",
       "      <td>1972-04-01</td>\n",
       "      <td>64.490724</td>\n",
       "    </tr>\n",
       "    <tr>\n",
       "      <td>1972-05-01</td>\n",
       "      <td>64.933842</td>\n",
       "    </tr>\n",
       "  </tbody>\n",
       "</table>\n",
       "</div>"
      ],
      "text/plain": [
       "             IPG3113N\n",
       "date                 \n",
       "1972-01-01  85.598809\n",
       "1972-02-01  71.741404\n",
       "1972-03-01  65.948809\n",
       "1972-04-01  64.490724\n",
       "1972-05-01  64.933842"
      ]
     },
     "execution_count": 4,
     "metadata": {},
     "output_type": "execute_result"
    }
   ],
   "source": [
    "# Load in the time series\n",
    "candy = pd.read_csv('candy_production.csv', \n",
    "            index_col='date',\n",
    "            parse_dates=True)\n",
    "candy.head()"
   ]
  },
  {
   "cell_type": "markdown",
   "metadata": {},
   "source": [
    "# Data preprocessing"
   ]
  },
  {
   "cell_type": "code",
   "execution_count": 5,
   "metadata": {},
   "outputs": [
    {
     "data": {
      "text/plain": [
       "(564, 1)"
      ]
     },
     "execution_count": 5,
     "metadata": {},
     "output_type": "execute_result"
    }
   ],
   "source": [
    "candy.to_numpy().shape"
   ]
  },
  {
   "cell_type": "code",
   "execution_count": 6,
   "metadata": {},
   "outputs": [],
   "source": [
    "# Source: https://github.com/pipidog/DeepTimeSeries/blob/master/DeepTimeSeries/utils.py\n",
    "# NOTE: the author mis-spelled it superviesed;\n",
    "# Added shuffle option\n",
    "def series_to_supervised(x_timeseries, y_timeseries, n_memory_step, n_forcast_step, \n",
    "                         split=None, shuffle=True, seed=123):\n",
    "    '''\n",
    "        x_timeseries:  input  time series data, numpy array, (time_snapshots, features)\n",
    "        y_timeseries:  target time series data, numpy array, (time_snapshots, features)\n",
    "        n_memory_step:  number of memory steps in supervised learning, (input_steps)\n",
    "        n_forcast_step: number of forecast steps in supervised learning, (output_steps)\n",
    "        split: portion of data to be used as train set, float, example: 0.8\n",
    "    '''\n",
    "    assert len(x_timeseries.shape) == 2, 'x_timeseries must be shape of (time_step, features)'\n",
    "    assert len(y_timeseries.shape) == 2, 'y_timeseries must be shape of (time_step, features)' \n",
    "\n",
    "    input_step, input_feature = x_timeseries.shape\n",
    "    output_step, output_feature = y_timeseries.shape\n",
    "    assert input_step == output_step, 'number of time_step of x_timeseries and y_timeseries are not consistent!'\n",
    "\n",
    "    n_RNN_sample=input_step-n_forcast_step-n_memory_step+1\n",
    "    RNN_x=np.zeros((n_RNN_sample,n_memory_step, input_feature))\n",
    "    RNN_y=np.zeros((n_RNN_sample,n_forcast_step, output_feature))\n",
    "\n",
    "    for n in range(n_RNN_sample):\n",
    "        RNN_x[n,:,:]=x_timeseries[n:n+n_memory_step,:]\n",
    "        RNN_y[n,:,:]=y_timeseries[n+n_memory_step:n+n_memory_step+n_forcast_step,:]\n",
    "    \n",
    "    if shuffle:\n",
    "        np.random.seed(seed)\n",
    "        random_idxs = np.random.permutation(np.arange(RNN_x.shape[0]))\n",
    "        RNN_x, RNN_y = RNN_x[random_idxs], RNN_y[random_idxs]\n",
    "        \n",
    "    if split:\n",
    "        assert (split <=0.9) & (split >= 0.1), 'split not in reasonable range'\n",
    "        return RNN_x[:int(split*len(RNN_x))], RNN_y[:int(split*len(RNN_x))],\\\n",
    "               RNN_x[int(split*len(RNN_x))+1:], RNN_y[int(split*len(RNN_x))+1:]\n",
    "    else:\n",
    "        return RNN_x, RNN_y, None, None"
   ]
  },
  {
   "cell_type": "code",
   "execution_count": 7,
   "metadata": {},
   "outputs": [],
   "source": [
    "series = candy.to_numpy()[:]\n",
    "\n",
    "split_time = int(0.8 * series.shape[0])\n",
    "\n",
    "series_train = series[:split_time]\n",
    "series_valid = series[split_time:]\n",
    "\n",
    "time_ = np.arange(series.shape[0])\n",
    "time_valid = time_[split_time:]"
   ]
  },
  {
   "cell_type": "code",
   "execution_count": 8,
   "metadata": {},
   "outputs": [],
   "source": [
    "from sklearn.preprocessing import MinMaxScaler\n",
    "\n",
    "scl = MinMaxScaler(feature_range=(0,1))\n",
    "ser_scl = scl.fit_transform(series)"
   ]
  },
  {
   "cell_type": "code",
   "execution_count": 9,
   "metadata": {},
   "outputs": [],
   "source": [
    "look_back = 20\n",
    "\n",
    "#X_train, y_train, X_test, y_test = series_to_supervised(candy.to_numpy(), candy.to_numpy(), look_back, 1, split = 0.8, shuffle=False)\n",
    "X_train, y_train, X_test, y_test = series_to_supervised(ser_scl, ser_scl, look_back, 1, split = 0.8, shuffle=False)"
   ]
  },
  {
   "cell_type": "code",
   "execution_count": 10,
   "metadata": {},
   "outputs": [
    {
     "data": {
      "text/plain": [
       "((435, 20, 1), (435, 1, 1), (108, 20, 1), (108, 1, 1))"
      ]
     },
     "execution_count": 10,
     "metadata": {},
     "output_type": "execute_result"
    }
   ],
   "source": [
    "X_train.shape, y_train.shape, X_test.shape, y_test.shape"
   ]
  },
  {
   "cell_type": "code",
   "execution_count": 11,
   "metadata": {},
   "outputs": [
    {
     "data": {
      "text/plain": [
       "(array([0.39401814, 0.23765274, 0.17228976, 0.15583688, 0.16083698,\n",
       "        0.19051976, 0.20621423, 0.22638477, 0.2737713 , 0.63296006,\n",
       "        0.61790456, 0.62206961, 0.45680726, 0.29875713, 0.21250238,\n",
       "        0.22028707, 0.23593195, 0.2718488 , 0.24015335, 0.25291785]),\n",
       " array([0.33652775]))"
      ]
     },
     "execution_count": 11,
     "metadata": {},
     "output_type": "execute_result"
    }
   ],
   "source": [
    "X_train[0,:,0], y_train[0,:,0]"
   ]
  },
  {
   "cell_type": "code",
   "execution_count": 12,
   "metadata": {},
   "outputs": [
    {
     "data": {
      "text/plain": [
       "(array([0.33652775, 0.58819698, 0.6595123 , 0.61398291, 0.42768004,\n",
       "        0.37025163, 0.29830975, 0.18662404, 0.26886361, 0.32487212,\n",
       "        0.1724757 , 0.23041573, 0.21917256, 0.54684843, 0.56850988,\n",
       "        0.40834003, 0.18427331, 0.02287851, 0.        , 0.10251267]),\n",
       " array([0.11443424]))"
      ]
     },
     "execution_count": 12,
     "metadata": {},
     "output_type": "execute_result"
    }
   ],
   "source": [
    "X_train[20,:,0], y_train[20,:,0]"
   ]
  },
  {
   "cell_type": "code",
   "execution_count": 13,
   "metadata": {},
   "outputs": [
    {
     "data": {
      "text/plain": [
       "[<matplotlib.lines.Line2D at 0x7fe2dc9ac588>]"
      ]
     },
     "execution_count": 13,
     "metadata": {},
     "output_type": "execute_result"
    },
    {
     "data": {
      "image/png": "[encoded data removed]",
      "text/plain": [
       "<Figure size 432x288 with 1 Axes>"
      ]
     },
     "metadata": {
      "needs_background": "light"
     },
     "output_type": "display_data"
    }
   ],
   "source": [
    "tax = np.arange(20)\n",
    "plt.plot(tax, X_train[0, :, 0])\n",
    "plt.plot(tax[-1], y_train[0, :, 0], 'rx')"
   ]
  },
  {
   "cell_type": "code",
   "execution_count": null,
   "metadata": {},
   "outputs": [],
   "source": []
  },
  {
   "cell_type": "code",
   "execution_count": null,
   "metadata": {},
   "outputs": [],
   "source": []
  },
  {
   "cell_type": "markdown",
   "metadata": {},
   "source": [
    "# Model with LearningRateScheduler"
   ]
  },
  {
   "cell_type": "code",
   "execution_count": 14,
   "metadata": {},
   "outputs": [],
   "source": [
    "mod = keras.Sequential()\n",
    "mod.add(layers.SimpleRNN(36,\n",
    "        input_shape = (X_train.shape[1], X_train.shape[2]),                        \n",
    "        return_sequences=True))\n",
    "mod.add(layers.SimpleRNN(36))\n",
    "mod.add(layers.Dense(1))\n",
    "mod.compile(optimizer=keras.optimizers.Adam(lr = 1e-5),\n",
    "            loss=keras.losses.Huber(),\n",
    "            metrics=['mae'])"
   ]
  },
  {
   "cell_type": "code",
   "execution_count": 15,
   "metadata": {},
   "outputs": [],
   "source": [
    "# Source: https://gist.github.com/jeremyjordan/86398d7c05c02396c24661baa4c88165\n",
    "from tensorflow.keras.callbacks import LearningRateScheduler\n",
    "\n",
    "def step_decay_schedule(initial_lr=1e-3, decay_factor=1.0, step_size=10):\n",
    "    '''\n",
    "    Wrapper function to create a LearningRateScheduler with step decay schedule.\n",
    "    '''\n",
    "    def schedule(epoch):\n",
    "        return initial_lr * (decay_factor ** np.floor(epoch/step_size))\n",
    "    \n",
    "    return LearningRateScheduler(schedule)\n",
    "\n",
    "lr_sched = step_decay_schedule(initial_lr=1e-4, decay_factor=0.75)"
   ]
  },
  {
   "cell_type": "code",
   "execution_count": 16,
   "metadata": {},
   "outputs": [],
   "source": [
    "epoch = 200\n",
    "bs = 20"
   ]
  },
  {
   "cell_type": "code",
   "execution_count": 17,
   "metadata": {},
   "outputs": [
    {
     "name": "stdout",
     "output_type": "stream",
     "text": [
      "Train on 348 samples, validate on 87 samples\n",
      "Epoch 1/200\n",
      "348/348 [==============================] - 2s 4ms/sample - loss: 0.3047 - mae: 0.6920 - val_loss: 0.1117 - val_mae: 0.4243\n",
      "Epoch 2/200\n",
      "348/348 [==============================] - 0s 394us/sample - loss: 0.0451 - mae: 0.2461 - val_loss: 0.0237 - val_mae: 0.1788\n",
      "Epoch 3/200\n",
      "348/348 [==============================] - 0s 397us/sample - loss: 0.0318 - mae: 0.2026 - val_loss: 0.0214 - val_mae: 0.1753\n",
      "Epoch 4/200\n",
      "348/348 [==============================] - 0s 357us/sample - loss: 0.0225 - mae: 0.1699 - val_loss: 0.0214 - val_mae: 0.1768\n",
      "Epoch 5/200\n",
      "348/348 [==============================] - 0s 354us/sample - loss: 0.0178 - mae: 0.1495 - val_loss: 0.0164 - val_mae: 0.1547\n",
      "Epoch 6/200\n",
      "348/348 [==============================] - 0s 387us/sample - loss: 0.0146 - mae: 0.1347 - val_loss: 0.0137 - val_mae: 0.1410\n",
      "Epoch 7/200\n",
      "348/348 [==============================] - 0s 357us/sample - loss: 0.0123 - mae: 0.1231 - val_loss: 0.0104 - val_mae: 0.1224\n",
      "Epoch 8/200\n",
      "348/348 [==============================] - 0s 350us/sample - loss: 0.0108 - mae: 0.1148 - val_loss: 0.0088 - val_mae: 0.1121\n",
      "Epoch 9/200\n",
      "348/348 [==============================] - 0s 372us/sample - loss: 0.0098 - mae: 0.1093 - val_loss: 0.0078 - val_mae: 0.1051\n",
      "Epoch 10/200\n",
      "348/348 [==============================] - 0s 364us/sample - loss: 0.0089 - mae: 0.1045 - val_loss: 0.0068 - val_mae: 0.0976\n",
      "Epoch 11/200\n",
      "348/348 [==============================] - 0s 322us/sample - loss: 0.0084 - mae: 0.1010 - val_loss: 0.0064 - val_mae: 0.0938\n",
      "Epoch 12/200\n",
      "348/348 [==============================] - 0s 325us/sample - loss: 0.0080 - mae: 0.0995 - val_loss: 0.0061 - val_mae: 0.0917\n",
      "Epoch 13/200\n",
      "348/348 [==============================] - 0s 341us/sample - loss: 0.0075 - mae: 0.0957 - val_loss: 0.0055 - val_mae: 0.0874\n",
      "Epoch 14/200\n",
      "348/348 [==============================] - 0s 341us/sample - loss: 0.0072 - mae: 0.0935 - val_loss: 0.0053 - val_mae: 0.0854\n",
      "Epoch 15/200\n",
      "348/348 [==============================] - 0s 329us/sample - loss: 0.0069 - mae: 0.0917 - val_loss: 0.0054 - val_mae: 0.0855\n",
      "Epoch 16/200\n",
      "348/348 [==============================] - 0s 345us/sample - loss: 0.0066 - mae: 0.0896 - val_loss: 0.0050 - val_mae: 0.0822\n",
      "Epoch 17/200\n",
      "348/348 [==============================] - 0s 323us/sample - loss: 0.0064 - mae: 0.0880 - val_loss: 0.0048 - val_mae: 0.0808\n",
      "Epoch 18/200\n",
      "348/348 [==============================] - 0s 343us/sample - loss: 0.0061 - mae: 0.0861 - val_loss: 0.0047 - val_mae: 0.0794\n",
      "Epoch 19/200\n",
      "348/348 [==============================] - 0s 319us/sample - loss: 0.0060 - mae: 0.0849 - val_loss: 0.0045 - val_mae: 0.0786\n",
      "Epoch 20/200\n",
      "348/348 [==============================] - 0s 338us/sample - loss: 0.0058 - mae: 0.0834 - val_loss: 0.0044 - val_mae: 0.0777\n",
      "Epoch 21/200\n",
      "348/348 [==============================] - 0s 328us/sample - loss: 0.0056 - mae: 0.0820 - val_loss: 0.0043 - val_mae: 0.0769\n",
      "Epoch 22/200\n",
      "348/348 [==============================] - 0s 353us/sample - loss: 0.0054 - mae: 0.0809 - val_loss: 0.0043 - val_mae: 0.0763\n",
      "Epoch 23/200\n",
      "348/348 [==============================] - 0s 349us/sample - loss: 0.0053 - mae: 0.0800 - val_loss: 0.0042 - val_mae: 0.0760\n",
      "Epoch 24/200\n",
      "348/348 [==============================] - 0s 336us/sample - loss: 0.0052 - mae: 0.0792 - val_loss: 0.0042 - val_mae: 0.0755\n",
      "Epoch 25/200\n",
      "348/348 [==============================] - 0s 334us/sample - loss: 0.0051 - mae: 0.0781 - val_loss: 0.0041 - val_mae: 0.0747\n",
      "Epoch 26/200\n",
      "348/348 [==============================] - 0s 361us/sample - loss: 0.0050 - mae: 0.0772 - val_loss: 0.0040 - val_mae: 0.0740\n",
      "Epoch 27/200\n",
      "348/348 [==============================] - 0s 321us/sample - loss: 0.0049 - mae: 0.0768 - val_loss: 0.0040 - val_mae: 0.0734\n",
      "Epoch 28/200\n",
      "348/348 [==============================] - 0s 362us/sample - loss: 0.0048 - mae: 0.0757 - val_loss: 0.0039 - val_mae: 0.0725\n",
      "Epoch 29/200\n",
      "348/348 [==============================] - 0s 346us/sample - loss: 0.0046 - mae: 0.0744 - val_loss: 0.0038 - val_mae: 0.0718\n",
      "Epoch 30/200\n",
      "348/348 [==============================] - 0s 333us/sample - loss: 0.0045 - mae: 0.0736 - val_loss: 0.0038 - val_mae: 0.0720\n",
      "Epoch 31/200\n",
      "348/348 [==============================] - 0s 336us/sample - loss: 0.0044 - mae: 0.0731 - val_loss: 0.0037 - val_mae: 0.0713\n",
      "Epoch 32/200\n",
      "348/348 [==============================] - 0s 341us/sample - loss: 0.0043 - mae: 0.0721 - val_loss: 0.0037 - val_mae: 0.0705\n",
      "Epoch 33/200\n",
      "348/348 [==============================] - 0s 345us/sample - loss: 0.0043 - mae: 0.0716 - val_loss: 0.0036 - val_mae: 0.0699\n",
      "Epoch 34/200\n",
      "348/348 [==============================] - 0s 376us/sample - loss: 0.0042 - mae: 0.0709 - val_loss: 0.0036 - val_mae: 0.0697\n",
      "Epoch 35/200\n",
      "348/348 [==============================] - 0s 335us/sample - loss: 0.0041 - mae: 0.0704 - val_loss: 0.0035 - val_mae: 0.0688\n",
      "Epoch 36/200\n",
      "348/348 [==============================] - 0s 336us/sample - loss: 0.0041 - mae: 0.0697 - val_loss: 0.0035 - val_mae: 0.0687\n",
      "Epoch 37/200\n",
      "348/348 [==============================] - 0s 335us/sample - loss: 0.0040 - mae: 0.0691 - val_loss: 0.0034 - val_mae: 0.0681\n",
      "Epoch 38/200\n",
      "348/348 [==============================] - 0s 354us/sample - loss: 0.0039 - mae: 0.0686 - val_loss: 0.0034 - val_mae: 0.0677\n",
      "Epoch 39/200\n",
      "348/348 [==============================] - 0s 360us/sample - loss: 0.0039 - mae: 0.0677 - val_loss: 0.0034 - val_mae: 0.0675\n",
      "Epoch 40/200\n",
      "348/348 [==============================] - 0s 357us/sample - loss: 0.0038 - mae: 0.0672 - val_loss: 0.0033 - val_mae: 0.0666\n",
      "Epoch 41/200\n",
      "348/348 [==============================] - 0s 340us/sample - loss: 0.0037 - mae: 0.0666 - val_loss: 0.0033 - val_mae: 0.0667\n",
      "Epoch 42/200\n",
      "348/348 [==============================] - 0s 358us/sample - loss: 0.0037 - mae: 0.0663 - val_loss: 0.0033 - val_mae: 0.0662\n",
      "Epoch 43/200\n",
      "348/348 [==============================] - 0s 340us/sample - loss: 0.0036 - mae: 0.0660 - val_loss: 0.0033 - val_mae: 0.0661\n",
      "Epoch 44/200\n",
      "348/348 [==============================] - 0s 342us/sample - loss: 0.0036 - mae: 0.0659 - val_loss: 0.0032 - val_mae: 0.0657\n",
      "Epoch 45/200\n",
      "348/348 [==============================] - 0s 349us/sample - loss: 0.0035 - mae: 0.0647 - val_loss: 0.0032 - val_mae: 0.0657\n",
      "Epoch 46/200\n",
      "348/348 [==============================] - 0s 343us/sample - loss: 0.0035 - mae: 0.0647 - val_loss: 0.0032 - val_mae: 0.0655\n",
      "Epoch 47/200\n",
      "348/348 [==============================] - 0s 339us/sample - loss: 0.0034 - mae: 0.0640 - val_loss: 0.0031 - val_mae: 0.0648\n",
      "Epoch 48/200\n",
      "348/348 [==============================] - 0s 338us/sample - loss: 0.0034 - mae: 0.0636 - val_loss: 0.0031 - val_mae: 0.0645\n",
      "Epoch 49/200\n",
      "348/348 [==============================] - 0s 334us/sample - loss: 0.0033 - mae: 0.0630 - val_loss: 0.0031 - val_mae: 0.0643\n",
      "Epoch 50/200\n",
      "348/348 [==============================] - 0s 345us/sample - loss: 0.0033 - mae: 0.0627 - val_loss: 0.0031 - val_mae: 0.0641\n",
      "Epoch 51/200\n",
      "348/348 [==============================] - 0s 354us/sample - loss: 0.0033 - mae: 0.0621 - val_loss: 0.0030 - val_mae: 0.0637\n",
      "Epoch 52/200\n",
      "348/348 [==============================] - 0s 338us/sample - loss: 0.0032 - mae: 0.0618 - val_loss: 0.0030 - val_mae: 0.0634\n",
      "Epoch 53/200\n",
      "348/348 [==============================] - 0s 331us/sample - loss: 0.0032 - mae: 0.0616 - val_loss: 0.0030 - val_mae: 0.0632\n",
      "Epoch 54/200\n",
      "348/348 [==============================] - 0s 362us/sample - loss: 0.0032 - mae: 0.0613 - val_loss: 0.0030 - val_mae: 0.0628\n",
      "Epoch 55/200\n",
      "348/348 [==============================] - 0s 333us/sample - loss: 0.0031 - mae: 0.0609 - val_loss: 0.0029 - val_mae: 0.0626\n",
      "Epoch 56/200\n",
      "348/348 [==============================] - 0s 338us/sample - loss: 0.0031 - mae: 0.0610 - val_loss: 0.0030 - val_mae: 0.0626\n",
      "Epoch 57/200\n",
      "348/348 [==============================] - 0s 341us/sample - loss: 0.0031 - mae: 0.0603 - val_loss: 0.0030 - val_mae: 0.0631\n",
      "Epoch 58/200\n",
      "348/348 [==============================] - 0s 346us/sample - loss: 0.0030 - mae: 0.0599 - val_loss: 0.0029 - val_mae: 0.0621\n",
      "Epoch 59/200\n",
      "348/348 [==============================] - 0s 345us/sample - loss: 0.0030 - mae: 0.0596 - val_loss: 0.0029 - val_mae: 0.0620\n",
      "Epoch 60/200\n",
      "348/348 [==============================] - 0s 336us/sample - loss: 0.0030 - mae: 0.0595 - val_loss: 0.0029 - val_mae: 0.0617\n",
      "Epoch 61/200\n",
      "348/348 [==============================] - 0s 354us/sample - loss: 0.0029 - mae: 0.0588 - val_loss: 0.0029 - val_mae: 0.0618\n",
      "Epoch 62/200\n",
      "348/348 [==============================] - 0s 376us/sample - loss: 0.0029 - mae: 0.0586 - val_loss: 0.0029 - val_mae: 0.0615\n",
      "Epoch 63/200\n",
      "348/348 [==============================] - 0s 354us/sample - loss: 0.0029 - mae: 0.0584 - val_loss: 0.0028 - val_mae: 0.0614\n",
      "Epoch 64/200\n",
      "348/348 [==============================] - 0s 353us/sample - loss: 0.0029 - mae: 0.0581 - val_loss: 0.0028 - val_mae: 0.0611\n",
      "Epoch 65/200\n",
      "348/348 [==============================] - 0s 345us/sample - loss: 0.0029 - mae: 0.0580 - val_loss: 0.0028 - val_mae: 0.0610\n",
      "Epoch 66/200\n",
      "348/348 [==============================] - 0s 345us/sample - loss: 0.0029 - mae: 0.0580 - val_loss: 0.0028 - val_mae: 0.0610\n",
      "Epoch 67/200\n",
      "348/348 [==============================] - 0s 340us/sample - loss: 0.0028 - mae: 0.0575 - val_loss: 0.0028 - val_mae: 0.0609\n",
      "Epoch 68/200\n",
      "348/348 [==============================] - 0s 358us/sample - loss: 0.0028 - mae: 0.0572 - val_loss: 0.0028 - val_mae: 0.0608\n",
      "Epoch 69/200\n",
      "348/348 [==============================] - 0s 335us/sample - loss: 0.0028 - mae: 0.0570 - val_loss: 0.0028 - val_mae: 0.0604\n",
      "Epoch 70/200\n",
      "348/348 [==============================] - 0s 357us/sample - loss: 0.0028 - mae: 0.0568 - val_loss: 0.0028 - val_mae: 0.0603\n",
      "Epoch 71/200\n",
      "348/348 [==============================] - 0s 326us/sample - loss: 0.0027 - mae: 0.0566 - val_loss: 0.0027 - val_mae: 0.0601\n",
      "Epoch 72/200\n",
      "348/348 [==============================] - 0s 354us/sample - loss: 0.0027 - mae: 0.0564 - val_loss: 0.0027 - val_mae: 0.0600\n",
      "Epoch 73/200\n",
      "348/348 [==============================] - 0s 367us/sample - loss: 0.0027 - mae: 0.0562 - val_loss: 0.0027 - val_mae: 0.0601\n",
      "Epoch 74/200\n",
      "348/348 [==============================] - 0s 380us/sample - loss: 0.0027 - mae: 0.0561 - val_loss: 0.0027 - val_mae: 0.0598\n",
      "Epoch 75/200\n",
      "348/348 [==============================] - 0s 347us/sample - loss: 0.0027 - mae: 0.0559 - val_loss: 0.0027 - val_mae: 0.0597\n",
      "Epoch 76/200\n",
      "348/348 [==============================] - 0s 385us/sample - loss: 0.0027 - mae: 0.0556 - val_loss: 0.0027 - val_mae: 0.0596\n",
      "Epoch 77/200\n",
      "348/348 [==============================] - 0s 364us/sample - loss: 0.0026 - mae: 0.0555 - val_loss: 0.0027 - val_mae: 0.0595\n",
      "Epoch 78/200\n",
      "348/348 [==============================] - 0s 347us/sample - loss: 0.0026 - mae: 0.0553 - val_loss: 0.0027 - val_mae: 0.0594\n",
      "Epoch 79/200\n",
      "348/348 [==============================] - 0s 391us/sample - loss: 0.0026 - mae: 0.0551 - val_loss: 0.0027 - val_mae: 0.0593\n",
      "Epoch 80/200\n",
      "348/348 [==============================] - 0s 361us/sample - loss: 0.0026 - mae: 0.0551 - val_loss: 0.0027 - val_mae: 0.0592\n",
      "Epoch 81/200\n",
      "348/348 [==============================] - 0s 329us/sample - loss: 0.0026 - mae: 0.0549 - val_loss: 0.0026 - val_mae: 0.0590\n",
      "Epoch 82/200\n",
      "348/348 [==============================] - 0s 381us/sample - loss: 0.0026 - mae: 0.0547 - val_loss: 0.0027 - val_mae: 0.0591\n",
      "Epoch 83/200\n",
      "348/348 [==============================] - 0s 370us/sample - loss: 0.0026 - mae: 0.0545 - val_loss: 0.0026 - val_mae: 0.0589\n",
      "Epoch 84/200\n",
      "348/348 [==============================] - 0s 365us/sample - loss: 0.0026 - mae: 0.0544 - val_loss: 0.0026 - val_mae: 0.0589\n",
      "Epoch 85/200\n",
      "348/348 [==============================] - 0s 390us/sample - loss: 0.0025 - mae: 0.0542 - val_loss: 0.0026 - val_mae: 0.0588\n",
      "Epoch 86/200\n",
      "348/348 [==============================] - 0s 401us/sample - loss: 0.0025 - mae: 0.0542 - val_loss: 0.0026 - val_mae: 0.0588\n",
      "Epoch 87/200\n",
      "348/348 [==============================] - 0s 348us/sample - loss: 0.0025 - mae: 0.0540 - val_loss: 0.0026 - val_mae: 0.0588\n",
      "Epoch 88/200\n",
      "348/348 [==============================] - 0s 349us/sample - loss: 0.0025 - mae: 0.0539 - val_loss: 0.0026 - val_mae: 0.0585\n",
      "Epoch 89/200\n",
      "348/348 [==============================] - 0s 339us/sample - loss: 0.0025 - mae: 0.0537 - val_loss: 0.0026 - val_mae: 0.0584\n",
      "Epoch 90/200\n",
      "348/348 [==============================] - 0s 338us/sample - loss: 0.0025 - mae: 0.0537 - val_loss: 0.0026 - val_mae: 0.0587\n",
      "Epoch 91/200\n",
      "348/348 [==============================] - 0s 349us/sample - loss: 0.0025 - mae: 0.0535 - val_loss: 0.0026 - val_mae: 0.0581\n",
      "Epoch 92/200\n",
      "348/348 [==============================] - 0s 350us/sample - loss: 0.0025 - mae: 0.0534 - val_loss: 0.0026 - val_mae: 0.0581\n",
      "Epoch 93/200\n",
      "348/348 [==============================] - 0s 389us/sample - loss: 0.0025 - mae: 0.0533 - val_loss: 0.0026 - val_mae: 0.0582\n",
      "Epoch 94/200\n",
      "348/348 [==============================] - 0s 358us/sample - loss: 0.0025 - mae: 0.0532 - val_loss: 0.0026 - val_mae: 0.0581\n",
      "Epoch 95/200\n",
      "348/348 [==============================] - 0s 334us/sample - loss: 0.0024 - mae: 0.0531 - val_loss: 0.0026 - val_mae: 0.0581\n",
      "Epoch 96/200\n",
      "348/348 [==============================] - 0s 345us/sample - loss: 0.0024 - mae: 0.0530 - val_loss: 0.0025 - val_mae: 0.0579\n",
      "Epoch 97/200\n",
      "348/348 [==============================] - 0s 339us/sample - loss: 0.0024 - mae: 0.0530 - val_loss: 0.0025 - val_mae: 0.0578\n",
      "Epoch 98/200\n",
      "348/348 [==============================] - 0s 342us/sample - loss: 0.0024 - mae: 0.0528 - val_loss: 0.0025 - val_mae: 0.0577\n",
      "Epoch 99/200\n",
      "348/348 [==============================] - 0s 327us/sample - loss: 0.0024 - mae: 0.0527 - val_loss: 0.0025 - val_mae: 0.0578\n",
      "Epoch 100/200\n",
      "348/348 [==============================] - 0s 330us/sample - loss: 0.0024 - mae: 0.0526 - val_loss: 0.0025 - val_mae: 0.0578\n",
      "Epoch 101/200\n",
      "348/348 [==============================] - 0s 337us/sample - loss: 0.0024 - mae: 0.0525 - val_loss: 0.0026 - val_mae: 0.0578\n",
      "Epoch 102/200\n",
      "348/348 [==============================] - 0s 337us/sample - loss: 0.0024 - mae: 0.0525 - val_loss: 0.0025 - val_mae: 0.0575\n",
      "Epoch 103/200\n",
      "348/348 [==============================] - 0s 376us/sample - loss: 0.0024 - mae: 0.0523 - val_loss: 0.0025 - val_mae: 0.0576\n",
      "Epoch 104/200\n",
      "348/348 [==============================] - 0s 359us/sample - loss: 0.0024 - mae: 0.0522 - val_loss: 0.0025 - val_mae: 0.0576\n",
      "Epoch 105/200\n",
      "348/348 [==============================] - 0s 347us/sample - loss: 0.0024 - mae: 0.0522 - val_loss: 0.0025 - val_mae: 0.0577\n",
      "Epoch 106/200\n",
      "348/348 [==============================] - 0s 336us/sample - loss: 0.0024 - mae: 0.0521 - val_loss: 0.0025 - val_mae: 0.0574\n",
      "Epoch 107/200\n",
      "348/348 [==============================] - 0s 340us/sample - loss: 0.0024 - mae: 0.0520 - val_loss: 0.0025 - val_mae: 0.0575\n",
      "Epoch 108/200\n",
      "348/348 [==============================] - 0s 368us/sample - loss: 0.0024 - mae: 0.0520 - val_loss: 0.0025 - val_mae: 0.0574\n",
      "Epoch 109/200\n",
      "348/348 [==============================] - 0s 373us/sample - loss: 0.0024 - mae: 0.0519 - val_loss: 0.0025 - val_mae: 0.0572\n",
      "Epoch 110/200\n",
      "348/348 [==============================] - 0s 378us/sample - loss: 0.0023 - mae: 0.0518 - val_loss: 0.0025 - val_mae: 0.0573\n",
      "Epoch 111/200\n",
      "348/348 [==============================] - 0s 354us/sample - loss: 0.0023 - mae: 0.0518 - val_loss: 0.0025 - val_mae: 0.0574\n",
      "Epoch 112/200\n",
      "348/348 [==============================] - 0s 357us/sample - loss: 0.0023 - mae: 0.0516 - val_loss: 0.0025 - val_mae: 0.0572\n",
      "Epoch 113/200\n",
      "348/348 [==============================] - 0s 326us/sample - loss: 0.0023 - mae: 0.0516 - val_loss: 0.0025 - val_mae: 0.0572\n",
      "Epoch 114/200\n",
      "348/348 [==============================] - 0s 364us/sample - loss: 0.0023 - mae: 0.0515 - val_loss: 0.0025 - val_mae: 0.0573\n",
      "Epoch 115/200\n",
      "348/348 [==============================] - 0s 335us/sample - loss: 0.0023 - mae: 0.0515 - val_loss: 0.0025 - val_mae: 0.0574\n",
      "Epoch 116/200\n",
      "348/348 [==============================] - 0s 333us/sample - loss: 0.0023 - mae: 0.0514 - val_loss: 0.0025 - val_mae: 0.0571\n",
      "Epoch 117/200\n",
      "348/348 [==============================] - 0s 356us/sample - loss: 0.0023 - mae: 0.0514 - val_loss: 0.0025 - val_mae: 0.0571\n",
      "Epoch 118/200\n",
      "348/348 [==============================] - 0s 376us/sample - loss: 0.0023 - mae: 0.0514 - val_loss: 0.0025 - val_mae: 0.0570\n",
      "Epoch 119/200\n",
      "348/348 [==============================] - 0s 354us/sample - loss: 0.0023 - mae: 0.0513 - val_loss: 0.0025 - val_mae: 0.0571\n",
      "Epoch 120/200\n",
      "348/348 [==============================] - 0s 339us/sample - loss: 0.0023 - mae: 0.0512 - val_loss: 0.0025 - val_mae: 0.0570\n",
      "Epoch 121/200\n",
      "348/348 [==============================] - 0s 341us/sample - loss: 0.0023 - mae: 0.0512 - val_loss: 0.0025 - val_mae: 0.0569\n",
      "Epoch 122/200\n",
      "348/348 [==============================] - 0s 348us/sample - loss: 0.0023 - mae: 0.0511 - val_loss: 0.0025 - val_mae: 0.0569\n",
      "Epoch 123/200\n",
      "348/348 [==============================] - 0s 343us/sample - loss: 0.0023 - mae: 0.0511 - val_loss: 0.0025 - val_mae: 0.0570\n",
      "Epoch 124/200\n",
      "348/348 [==============================] - 0s 341us/sample - loss: 0.0023 - mae: 0.0510 - val_loss: 0.0025 - val_mae: 0.0569\n",
      "Epoch 125/200\n",
      "348/348 [==============================] - 0s 331us/sample - loss: 0.0023 - mae: 0.0510 - val_loss: 0.0025 - val_mae: 0.0569\n",
      "Epoch 126/200\n",
      "348/348 [==============================] - 0s 333us/sample - loss: 0.0023 - mae: 0.0510 - val_loss: 0.0025 - val_mae: 0.0570\n",
      "Epoch 127/200\n",
      "348/348 [==============================] - 0s 330us/sample - loss: 0.0023 - mae: 0.0509 - val_loss: 0.0025 - val_mae: 0.0568\n",
      "Epoch 128/200\n",
      "348/348 [==============================] - 0s 350us/sample - loss: 0.0023 - mae: 0.0509 - val_loss: 0.0025 - val_mae: 0.0568\n",
      "Epoch 129/200\n",
      "348/348 [==============================] - 0s 346us/sample - loss: 0.0023 - mae: 0.0508 - val_loss: 0.0025 - val_mae: 0.0568\n",
      "Epoch 130/200\n",
      "348/348 [==============================] - 0s 335us/sample - loss: 0.0023 - mae: 0.0508 - val_loss: 0.0025 - val_mae: 0.0568\n",
      "Epoch 131/200\n",
      "348/348 [==============================] - 0s 338us/sample - loss: 0.0023 - mae: 0.0507 - val_loss: 0.0025 - val_mae: 0.0568\n",
      "Epoch 132/200\n",
      "348/348 [==============================] - 0s 342us/sample - loss: 0.0023 - mae: 0.0507 - val_loss: 0.0024 - val_mae: 0.0567\n",
      "Epoch 133/200\n",
      "348/348 [==============================] - 0s 345us/sample - loss: 0.0023 - mae: 0.0507 - val_loss: 0.0025 - val_mae: 0.0567\n",
      "Epoch 134/200\n",
      "348/348 [==============================] - 0s 360us/sample - loss: 0.0023 - mae: 0.0506 - val_loss: 0.0025 - val_mae: 0.0568\n",
      "Epoch 135/200\n",
      "348/348 [==============================] - 0s 337us/sample - loss: 0.0022 - mae: 0.0506 - val_loss: 0.0024 - val_mae: 0.0566\n",
      "Epoch 136/200\n",
      "348/348 [==============================] - 0s 357us/sample - loss: 0.0022 - mae: 0.0506 - val_loss: 0.0024 - val_mae: 0.0566\n",
      "Epoch 137/200\n",
      "348/348 [==============================] - 0s 347us/sample - loss: 0.0022 - mae: 0.0505 - val_loss: 0.0024 - val_mae: 0.0566\n",
      "Epoch 138/200\n",
      "348/348 [==============================] - 0s 362us/sample - loss: 0.0022 - mae: 0.0505 - val_loss: 0.0024 - val_mae: 0.0565\n",
      "Epoch 139/200\n",
      "348/348 [==============================] - 0s 342us/sample - loss: 0.0022 - mae: 0.0505 - val_loss: 0.0024 - val_mae: 0.0566\n",
      "Epoch 140/200\n",
      "348/348 [==============================] - 0s 352us/sample - loss: 0.0022 - mae: 0.0504 - val_loss: 0.0024 - val_mae: 0.0567\n",
      "Epoch 141/200\n",
      "348/348 [==============================] - 0s 341us/sample - loss: 0.0022 - mae: 0.0504 - val_loss: 0.0024 - val_mae: 0.0566\n",
      "Epoch 142/200\n",
      "348/348 [==============================] - 0s 411us/sample - loss: 0.0022 - mae: 0.0504 - val_loss: 0.0024 - val_mae: 0.0566\n",
      "Epoch 143/200\n",
      "348/348 [==============================] - 0s 344us/sample - loss: 0.0022 - mae: 0.0503 - val_loss: 0.0024 - val_mae: 0.0566\n",
      "Epoch 144/200\n",
      "348/348 [==============================] - 0s 361us/sample - loss: 0.0022 - mae: 0.0503 - val_loss: 0.0024 - val_mae: 0.0565\n",
      "Epoch 145/200\n",
      "348/348 [==============================] - 0s 336us/sample - loss: 0.0022 - mae: 0.0503 - val_loss: 0.0024 - val_mae: 0.0565\n",
      "Epoch 146/200\n",
      "348/348 [==============================] - 0s 358us/sample - loss: 0.0022 - mae: 0.0503 - val_loss: 0.0024 - val_mae: 0.0565\n",
      "Epoch 147/200\n",
      "348/348 [==============================] - 0s 336us/sample - loss: 0.0022 - mae: 0.0502 - val_loss: 0.0024 - val_mae: 0.0565\n",
      "Epoch 148/200\n",
      "348/348 [==============================] - 0s 353us/sample - loss: 0.0022 - mae: 0.0502 - val_loss: 0.0024 - val_mae: 0.0565\n",
      "Epoch 149/200\n",
      "348/348 [==============================] - 0s 343us/sample - loss: 0.0022 - mae: 0.0502 - val_loss: 0.0024 - val_mae: 0.0564\n",
      "Epoch 150/200\n",
      "348/348 [==============================] - 0s 363us/sample - loss: 0.0022 - mae: 0.0501 - val_loss: 0.0024 - val_mae: 0.0565\n",
      "Epoch 151/200\n",
      "348/348 [==============================] - 0s 359us/sample - loss: 0.0022 - mae: 0.0502 - val_loss: 0.0024 - val_mae: 0.0564\n",
      "Epoch 152/200\n",
      "348/348 [==============================] - 0s 382us/sample - loss: 0.0022 - mae: 0.0501 - val_loss: 0.0024 - val_mae: 0.0564\n",
      "Epoch 153/200\n",
      "348/348 [==============================] - 0s 358us/sample - loss: 0.0022 - mae: 0.0501 - val_loss: 0.0024 - val_mae: 0.0564\n",
      "Epoch 154/200\n",
      "348/348 [==============================] - 0s 364us/sample - loss: 0.0022 - mae: 0.0501 - val_loss: 0.0024 - val_mae: 0.0564\n",
      "Epoch 155/200\n",
      "348/348 [==============================] - 0s 376us/sample - loss: 0.0022 - mae: 0.0501 - val_loss: 0.0024 - val_mae: 0.0563\n",
      "Epoch 156/200\n",
      "348/348 [==============================] - 0s 380us/sample - loss: 0.0022 - mae: 0.0500 - val_loss: 0.0024 - val_mae: 0.0563\n",
      "Epoch 157/200\n",
      "348/348 [==============================] - 0s 360us/sample - loss: 0.0022 - mae: 0.0500 - val_loss: 0.0024 - val_mae: 0.0563\n",
      "Epoch 158/200\n",
      "348/348 [==============================] - 0s 365us/sample - loss: 0.0022 - mae: 0.0500 - val_loss: 0.0024 - val_mae: 0.0563\n",
      "Epoch 159/200\n",
      "348/348 [==============================] - 0s 404us/sample - loss: 0.0022 - mae: 0.0500 - val_loss: 0.0024 - val_mae: 0.0563\n",
      "Epoch 160/200\n",
      "348/348 [==============================] - 0s 392us/sample - loss: 0.0022 - mae: 0.0499 - val_loss: 0.0024 - val_mae: 0.0563\n",
      "Epoch 161/200\n",
      "348/348 [==============================] - 0s 354us/sample - loss: 0.0022 - mae: 0.0499 - val_loss: 0.0024 - val_mae: 0.0563\n",
      "Epoch 162/200\n",
      "348/348 [==============================] - 0s 374us/sample - loss: 0.0022 - mae: 0.0499 - val_loss: 0.0024 - val_mae: 0.0563\n",
      "Epoch 163/200\n",
      "348/348 [==============================] - 0s 408us/sample - loss: 0.0022 - mae: 0.0499 - val_loss: 0.0024 - val_mae: 0.0562\n",
      "Epoch 164/200\n",
      "348/348 [==============================] - 0s 368us/sample - loss: 0.0022 - mae: 0.0499 - val_loss: 0.0024 - val_mae: 0.0562\n",
      "Epoch 165/200\n",
      "348/348 [==============================] - 0s 364us/sample - loss: 0.0022 - mae: 0.0498 - val_loss: 0.0024 - val_mae: 0.0562\n",
      "Epoch 166/200\n",
      "348/348 [==============================] - 0s 398us/sample - loss: 0.0022 - mae: 0.0498 - val_loss: 0.0024 - val_mae: 0.0562\n",
      "Epoch 167/200\n",
      "348/348 [==============================] - 0s 350us/sample - loss: 0.0022 - mae: 0.0498 - val_loss: 0.0024 - val_mae: 0.0561\n",
      "Epoch 168/200\n",
      "348/348 [==============================] - 0s 353us/sample - loss: 0.0022 - mae: 0.0498 - val_loss: 0.0024 - val_mae: 0.0561\n",
      "Epoch 169/200\n",
      "348/348 [==============================] - 0s 355us/sample - loss: 0.0022 - mae: 0.0498 - val_loss: 0.0024 - val_mae: 0.0562\n",
      "Epoch 170/200\n",
      "348/348 [==============================] - 0s 388us/sample - loss: 0.0022 - mae: 0.0498 - val_loss: 0.0024 - val_mae: 0.0562\n",
      "Epoch 171/200\n",
      "348/348 [==============================] - 0s 365us/sample - loss: 0.0022 - mae: 0.0497 - val_loss: 0.0024 - val_mae: 0.0561\n",
      "Epoch 172/200\n",
      "348/348 [==============================] - 0s 363us/sample - loss: 0.0022 - mae: 0.0497 - val_loss: 0.0024 - val_mae: 0.0562\n",
      "Epoch 173/200\n",
      "348/348 [==============================] - 0s 340us/sample - loss: 0.0022 - mae: 0.0497 - val_loss: 0.0024 - val_mae: 0.0561\n",
      "Epoch 174/200\n",
      "348/348 [==============================] - 0s 346us/sample - loss: 0.0022 - mae: 0.0497 - val_loss: 0.0024 - val_mae: 0.0561\n",
      "Epoch 175/200\n",
      "348/348 [==============================] - 0s 384us/sample - loss: 0.0022 - mae: 0.0497 - val_loss: 0.0024 - val_mae: 0.0561\n",
      "Epoch 176/200\n",
      "348/348 [==============================] - 0s 354us/sample - loss: 0.0022 - mae: 0.0497 - val_loss: 0.0024 - val_mae: 0.0561\n",
      "Epoch 177/200\n",
      "348/348 [==============================] - 0s 375us/sample - loss: 0.0022 - mae: 0.0497 - val_loss: 0.0024 - val_mae: 0.0561\n",
      "Epoch 178/200\n",
      "348/348 [==============================] - 0s 401us/sample - loss: 0.0022 - mae: 0.0497 - val_loss: 0.0024 - val_mae: 0.0561\n",
      "Epoch 179/200\n",
      "348/348 [==============================] - 0s 391us/sample - loss: 0.0022 - mae: 0.0497 - val_loss: 0.0024 - val_mae: 0.0560\n",
      "Epoch 180/200\n",
      "348/348 [==============================] - 0s 339us/sample - loss: 0.0022 - mae: 0.0496 - val_loss: 0.0024 - val_mae: 0.0560\n",
      "Epoch 181/200\n",
      "348/348 [==============================] - 0s 351us/sample - loss: 0.0022 - mae: 0.0496 - val_loss: 0.0024 - val_mae: 0.0560\n",
      "Epoch 182/200\n",
      "348/348 [==============================] - 0s 349us/sample - loss: 0.0022 - mae: 0.0496 - val_loss: 0.0024 - val_mae: 0.0560\n",
      "Epoch 183/200\n",
      "348/348 [==============================] - 0s 348us/sample - loss: 0.0022 - mae: 0.0496 - val_loss: 0.0024 - val_mae: 0.0561\n",
      "Epoch 184/200\n",
      "348/348 [==============================] - 0s 382us/sample - loss: 0.0022 - mae: 0.0496 - val_loss: 0.0024 - val_mae: 0.0561\n",
      "Epoch 185/200\n",
      "348/348 [==============================] - 0s 398us/sample - loss: 0.0022 - mae: 0.0496 - val_loss: 0.0024 - val_mae: 0.0560\n",
      "Epoch 186/200\n",
      "348/348 [==============================] - 0s 387us/sample - loss: 0.0022 - mae: 0.0496 - val_loss: 0.0024 - val_mae: 0.0560\n",
      "Epoch 187/200\n",
      "348/348 [==============================] - 0s 345us/sample - loss: 0.0022 - mae: 0.0496 - val_loss: 0.0024 - val_mae: 0.0560\n",
      "Epoch 188/200\n",
      "348/348 [==============================] - 0s 345us/sample - loss: 0.0022 - mae: 0.0496 - val_loss: 0.0024 - val_mae: 0.0560\n",
      "Epoch 189/200\n",
      "348/348 [==============================] - 0s 348us/sample - loss: 0.0022 - mae: 0.0495 - val_loss: 0.0024 - val_mae: 0.0560\n",
      "Epoch 190/200\n",
      "348/348 [==============================] - 0s 359us/sample - loss: 0.0022 - mae: 0.0495 - val_loss: 0.0024 - val_mae: 0.0560\n",
      "Epoch 191/200\n",
      "348/348 [==============================] - 0s 347us/sample - loss: 0.0022 - mae: 0.0495 - val_loss: 0.0024 - val_mae: 0.0560\n",
      "Epoch 192/200\n",
      "348/348 [==============================] - 0s 357us/sample - loss: 0.0022 - mae: 0.0495 - val_loss: 0.0024 - val_mae: 0.0560\n",
      "Epoch 193/200\n",
      "348/348 [==============================] - 0s 342us/sample - loss: 0.0022 - mae: 0.0495 - val_loss: 0.0024 - val_mae: 0.0560\n",
      "Epoch 194/200\n",
      "348/348 [==============================] - 0s 340us/sample - loss: 0.0022 - mae: 0.0495 - val_loss: 0.0024 - val_mae: 0.0560\n",
      "Epoch 195/200\n",
      "348/348 [==============================] - 0s 358us/sample - loss: 0.0022 - mae: 0.0495 - val_loss: 0.0024 - val_mae: 0.0560\n",
      "Epoch 196/200\n",
      "348/348 [==============================] - 0s 346us/sample - loss: 0.0022 - mae: 0.0495 - val_loss: 0.0024 - val_mae: 0.0560\n",
      "Epoch 197/200\n",
      "348/348 [==============================] - 0s 361us/sample - loss: 0.0022 - mae: 0.0495 - val_loss: 0.0024 - val_mae: 0.0560\n",
      "Epoch 198/200\n",
      "348/348 [==============================] - 0s 358us/sample - loss: 0.0022 - mae: 0.0495 - val_loss: 0.0024 - val_mae: 0.0560\n",
      "Epoch 199/200\n",
      "348/348 [==============================] - 0s 365us/sample - loss: 0.0022 - mae: 0.0495 - val_loss: 0.0024 - val_mae: 0.0560\n",
      "Epoch 200/200\n",
      "348/348 [==============================] - 0s 349us/sample - loss: 0.0022 - mae: 0.0495 - val_loss: 0.0024 - val_mae: 0.0560\n"
     ]
    }
   ],
   "source": [
    "history = mod.fit(X_train, \n",
    "          y_train, \n",
    "          epochs=epoch, \n",
    "          batch_size=bs, \n",
    "          validation_split=0.2,\n",
    "          verbose=1,\n",
    "          callbacks=[lr_sched])"
   ]
  },
  {
   "cell_type": "code",
   "execution_count": 18,
   "metadata": {},
   "outputs": [
    {
     "name": "stdout",
     "output_type": "stream",
     "text": []
    },
    {
     "name": "stdout",
     "output_type": "stream",
     "text": [
      "108/1 [========================================================================================================================================================================================================================================================================================================================================================================================================================================================================================================================================================================================================================================================================================================================================================================================================================================================================================================================================================================================================================================================================================================================================================================================================================================================================================================================================================================================================================================================================================================================================================================================================================================================================================================================================================================================================================================================================================================================================================================================================================================================================================================================================================================================================================================================================================================================================================================================================================================================================================================================================================================================================================================================================================================================================================================================================================================================================================================================================================================================================================================================================================================================================================================================================================================================================================================================================================================] - 0s 89us/sample - loss: 0.0015 - mae: 0.0489\n"
     ]
    },
    {
     "data": {
      "text/plain": [
       "[0.002141939633508661, 0.048904754]"
      ]
     },
     "execution_count": 18,
     "metadata": {},
     "output_type": "execute_result"
    }
   ],
   "source": [
    "mod.evaluate(X_test, y_test)"
   ]
  },
  {
   "cell_type": "code",
   "execution_count": 19,
   "metadata": {},
   "outputs": [
    {
     "data": {
      "text/plain": [
       "(200, 4.2282826e-07)"
      ]
     },
     "execution_count": 19,
     "metadata": {},
     "output_type": "execute_result"
    }
   ],
   "source": [
    "len(history.history[\"lr\"]), history.history[\"lr\"][-1]"
   ]
  },
  {
   "cell_type": "code",
   "execution_count": 20,
   "metadata": {},
   "outputs": [
    {
     "data": {
      "text/plain": [
       "[<matplotlib.lines.Line2D at 0x7fe228548390>]"
      ]
     },
     "execution_count": 20,
     "metadata": {},
     "output_type": "execute_result"
    },
    {
     "data": {
      "image/png": "[encoded data removed]",
      "text/plain": [
       "<Figure size 432x288 with 1 Axes>"
      ]
     },
     "metadata": {
      "needs_background": "light"
     },
     "output_type": "display_data"
    }
   ],
   "source": [
    "plt.semilogx(history.history[\"lr\"], history.history[\"loss\"])\n",
    "#plt.axis([1e-5, 1, 0, 10])"
   ]
  },
  {
   "cell_type": "code",
   "execution_count": 21,
   "metadata": {},
   "outputs": [],
   "source": [
    "def plot_series(time, series, format=\"-\", start=0, end=None, label=\"Data\"):\n",
    "    plt.plot(time[start:end], series[start:end], format, label=label)\n",
    "    plt.xlabel(\"Time\")\n",
    "    plt.ylabel(\"Value\")\n",
    "    plt.grid(True)"
   ]
  },
  {
   "cell_type": "code",
   "execution_count": 22,
   "metadata": {},
   "outputs": [
    {
     "data": {
      "text/plain": [
       "<matplotlib.legend.Legend at 0x7fe17dc5f710>"
      ]
     },
     "execution_count": 22,
     "metadata": {},
     "output_type": "execute_result"
    },
    {
     "data": {
      "image/png": "[encoded data removed]",
      "text/plain": [
       "<Figure size 720x432 with 1 Axes>"
      ]
     },
     "metadata": {
      "needs_background": "light"
     },
     "output_type": "display_data"
    }
   ],
   "source": [
    "forecast=[]\n",
    "for time in range(len(ser_scl) - look_back):\n",
    "  forecast.append(mod.predict(ser_scl[time:time + look_back][np.newaxis]))\n",
    "\n",
    "forecast = forecast[split_time - look_back:]\n",
    "results = np.array(forecast)[:, 0, 0]\n",
    "\n",
    "\n",
    "plt.figure(figsize=(10, 6))\n",
    "\n",
    "\n",
    "plot_series(time_valid, ser_scl[split_time:], label=\"Actual\")\n",
    "plot_series(time_valid, results, label=\"Prediction\")\n",
    "plt.legend()"
   ]
  },
  {
   "cell_type": "markdown",
   "metadata": {},
   "source": [
    "# Hyperparameter Optimization using keras-tuner"
   ]
  },
  {
   "cell_type": "markdown",
   "metadata": {},
   "source": [
    "Tune:\n",
    " - Number of hidden units in SimpleRNN.\n",
    " - Learning rate: 1e-6, 1e-5, 1e-4."
   ]
  },
  {
   "cell_type": "code",
   "execution_count": 23,
   "metadata": {},
   "outputs": [],
   "source": [
    "tf.keras.backend.clear_session()\n",
    "tf.random.set_seed(123)\n",
    "np.random.seed(123)"
   ]
  },
  {
   "cell_type": "code",
   "execution_count": 24,
   "metadata": {},
   "outputs": [],
   "source": [
    "def build_model(hp):\n",
    "    model = keras.Sequential()\n",
    "    model.add(layers.SimpleRNN(\n",
    "        input_shape = (X_train.shape[1], X_train.shape[2]),                        \n",
    "        units=hp.Int('units', min_value=20, max_value=100, step=20),\n",
    "        return_sequences=True))\n",
    "    model.add(layers.SimpleRNN(40))\n",
    "    model.add(layers.Dense(1))\n",
    "    model.compile(\n",
    "        optimizer=keras.optimizers.Adam(\n",
    "            hp.Choice('learning_rate',\n",
    "                      values=[1e-4, 1e-5, 1e-6])),\n",
    "        loss=keras.losses.Huber(),\n",
    "        metrics=['mae'])\n",
    "    return model"
   ]
  },
  {
   "cell_type": "code",
   "execution_count": 25,
   "metadata": {},
   "outputs": [
    {
     "data": {
      "text/html": [
       "<span style=\"color:#4527A0\"><h1 style=\"font-size:18px\">Search space summary</h1></span>"
      ],
      "text/plain": [
       "<IPython.core.display.HTML object>"
      ]
     },
     "metadata": {},
     "output_type": "display_data"
    },
    {
     "data": {
      "text/html": [
       "<span style=\"color:cyan\"> |-Default search space size: 2</span>"
      ],
      "text/plain": [
       "<IPython.core.display.HTML object>"
      ]
     },
     "metadata": {},
     "output_type": "display_data"
    },
    {
     "data": {
      "text/html": [
       "<span style=\"color:#7E57C2\"><h2 style=\"font-size:16px\">units (Int)</h2></span>"
      ],
      "text/plain": [
       "<IPython.core.display.HTML object>"
      ]
     },
     "metadata": {},
     "output_type": "display_data"
    },
    {
     "data": {
      "text/html": [
       "<span style=\"color:cyan\"> |-default: None</span>"
      ],
      "text/plain": [
       "<IPython.core.display.HTML object>"
      ]
     },
     "metadata": {},
     "output_type": "display_data"
    },
    {
     "data": {
      "text/html": [
       "<span style=\"color:blue\"> |-max_value: 100</span>"
      ],
      "text/plain": [
       "<IPython.core.display.HTML object>"
      ]
     },
     "metadata": {},
     "output_type": "display_data"
    },
    {
     "data": {
      "text/html": [
       "<span style=\"color:cyan\"> |-min_value: 20</span>"
      ],
      "text/plain": [
       "<IPython.core.display.HTML object>"
      ]
     },
     "metadata": {},
     "output_type": "display_data"
    },
    {
     "data": {
      "text/html": [
       "<span style=\"color:blue\"> |-sampling: None</span>"
      ],
      "text/plain": [
       "<IPython.core.display.HTML object>"
      ]
     },
     "metadata": {},
     "output_type": "display_data"
    },
    {
     "data": {
      "text/html": [
       "<span style=\"color:cyan\"> |-step: 20</span>"
      ],
      "text/plain": [
       "<IPython.core.display.HTML object>"
      ]
     },
     "metadata": {},
     "output_type": "display_data"
    },
    {
     "data": {
      "text/html": [
       "<span style=\"color:#7E57C2\"><h2 style=\"font-size:16px\">learning_rate (Choice)</h2></span>"
      ],
      "text/plain": [
       "<IPython.core.display.HTML object>"
      ]
     },
     "metadata": {},
     "output_type": "display_data"
    },
    {
     "data": {
      "text/html": [
       "<span style=\"color:cyan\"> |-default: 0.0001</span>"
      ],
      "text/plain": [
       "<IPython.core.display.HTML object>"
      ]
     },
     "metadata": {},
     "output_type": "display_data"
    },
    {
     "data": {
      "text/html": [
       "<span style=\"color:blue\"> |-ordered: True</span>"
      ],
      "text/plain": [
       "<IPython.core.display.HTML object>"
      ]
     },
     "metadata": {},
     "output_type": "display_data"
    },
    {
     "data": {
      "text/html": [
       "<span style=\"color:cyan\"> |-values: [0.0001, 1e-05, 1e-06]</span>"
      ],
      "text/plain": [
       "<IPython.core.display.HTML object>"
      ]
     },
     "metadata": {},
     "output_type": "display_data"
    }
   ],
   "source": [
    "tuner = RandomSearch(\n",
    "    build_model,\n",
    "    objective='mae',\n",
    "    max_trials=TRIALS,\n",
    "    executions_per_trial=2,\n",
    "    directory='test_dir')\n",
    "\n",
    "tuner.search_space_summary()"
   ]
  },
  {
   "cell_type": "code",
   "execution_count": 26,
   "metadata": {},
   "outputs": [
    {
     "name": "stdout",
     "output_type": "stream",
     "text": [
      "Train on 435 samples, validate on 108 samples\n",
      "Epoch 1/2\n",
      "435/435 [==============================] - 1s 3ms/sample - loss: 0.0919 - mae: 0.3578 - val_loss: 0.0388 - val_mae: 0.2353\n",
      "Epoch 2/2\n",
      "435/435 [==============================] - 0s 230us/sample - loss: 0.0383 - mae: 0.2279 - val_loss: 0.0145 - val_mae: 0.1419\n",
      "Train on 435 samples, validate on 108 samples\n",
      "Epoch 1/2\n",
      "435/435 [==============================] - 1s 3ms/sample - loss: 0.0731 - mae: 0.3111 - val_loss: 0.0307 - val_mae: 0.2114\n",
      "Epoch 2/2\n",
      "435/435 [==============================] - 0s 211us/sample - loss: 0.0464 - mae: 0.2459 - val_loss: 0.0180 - val_mae: 0.1643\n"
     ]
    },
    {
     "data": {
      "text/html": [
       "<span style=\"color:#4527A0\"><h1 style=\"font-size:18px\">Trial complete</h1></span>"
      ],
      "text/plain": [
       "<IPython.core.display.HTML object>"
      ]
     },
     "metadata": {},
     "output_type": "display_data"
    },
    {
     "data": {
      "text/html": [
       "<span style=\"color:#4527A0\"><h1 style=\"font-size:18px\">Trial summary</h1></span>"
      ],
      "text/plain": [
       "<IPython.core.display.HTML object>"
      ]
     },
     "metadata": {},
     "output_type": "display_data"
    },
    {
     "data": {
      "text/html": [
       "<span style=\"color:#7E57C2\"><h2 style=\"font-size:16px\">Hp values:</h2></span>"
      ],
      "text/plain": [
       "<IPython.core.display.HTML object>"
      ]
     },
     "metadata": {},
     "output_type": "display_data"
    },
    {
     "data": {
      "text/html": [
       "<span style=\"color:cyan\"> |-learning_rate: 0.0001</span>"
      ],
      "text/plain": [
       "<IPython.core.display.HTML object>"
      ]
     },
     "metadata": {},
     "output_type": "display_data"
    },
    {
     "data": {
      "text/html": [
       "<span style=\"color:blue\"> |-units: 20</span>"
      ],
      "text/plain": [
       "<IPython.core.display.HTML object>"
      ]
     },
     "metadata": {},
     "output_type": "display_data"
    },
    {
     "data": {
      "text/html": [
       "<span style=\"color:cyan\"> |-Score: 0.23691338300704956</span>"
      ],
      "text/plain": [
       "<IPython.core.display.HTML object>"
      ]
     },
     "metadata": {},
     "output_type": "display_data"
    },
    {
     "data": {
      "text/html": [
       "<span style=\"color:cyan\"> |-Best step: 0</span>"
      ],
      "text/plain": [
       "<IPython.core.display.HTML object>"
      ]
     },
     "metadata": {},
     "output_type": "display_data"
    },
    {
     "name": "stdout",
     "output_type": "stream",
     "text": [
      "Train on 435 samples, validate on 108 samples\n",
      "Epoch 1/2\n",
      "435/435 [==============================] - 1s 3ms/sample - loss: 0.4552 - mae: 0.9065 - val_loss: 0.4826 - val_mae: 0.9635\n",
      "Epoch 2/2\n",
      "435/435 [==============================] - 0s 232us/sample - loss: 0.3940 - mae: 0.8286 - val_loss: 0.4145 - val_mae: 0.8835\n",
      "Train on 435 samples, validate on 108 samples\n",
      "Epoch 1/2\n",
      "435/435 [==============================] - 1s 3ms/sample - loss: 0.7126 - mae: 1.2084 - val_loss: 0.7181 - val_mae: 1.2180\n",
      "Epoch 2/2\n",
      "435/435 [==============================] - 0s 250us/sample - loss: 0.5317 - mae: 1.0170 - val_loss: 0.5192 - val_mae: 1.0152\n"
     ]
    },
    {
     "data": {
      "text/html": [
       "<span style=\"color:#4527A0\"><h1 style=\"font-size:18px\">Trial complete</h1></span>"
      ],
      "text/plain": [
       "<IPython.core.display.HTML object>"
      ]
     },
     "metadata": {},
     "output_type": "display_data"
    },
    {
     "data": {
      "text/html": [
       "<span style=\"color:#4527A0\"><h1 style=\"font-size:18px\">Trial summary</h1></span>"
      ],
      "text/plain": [
       "<IPython.core.display.HTML object>"
      ]
     },
     "metadata": {},
     "output_type": "display_data"
    },
    {
     "data": {
      "text/html": [
       "<span style=\"color:#7E57C2\"><h2 style=\"font-size:16px\">Hp values:</h2></span>"
      ],
      "text/plain": [
       "<IPython.core.display.HTML object>"
      ]
     },
     "metadata": {},
     "output_type": "display_data"
    },
    {
     "data": {
      "text/html": [
       "<span style=\"color:cyan\"> |-learning_rate: 1e-05</span>"
      ],
      "text/plain": [
       "<IPython.core.display.HTML object>"
      ]
     },
     "metadata": {},
     "output_type": "display_data"
    },
    {
     "data": {
      "text/html": [
       "<span style=\"color:blue\"> |-units: 80</span>"
      ],
      "text/plain": [
       "<IPython.core.display.HTML object>"
      ]
     },
     "metadata": {},
     "output_type": "display_data"
    },
    {
     "data": {
      "text/html": [
       "<span style=\"color:cyan\"> |-Score: 0.9227794408798218</span>"
      ],
      "text/plain": [
       "<IPython.core.display.HTML object>"
      ]
     },
     "metadata": {},
     "output_type": "display_data"
    },
    {
     "data": {
      "text/html": [
       "<span style=\"color:cyan\"> |-Best step: 0</span>"
      ],
      "text/plain": [
       "<IPython.core.display.HTML object>"
      ]
     },
     "metadata": {},
     "output_type": "display_data"
    },
    {
     "name": "stdout",
     "output_type": "stream",
     "text": [
      "Train on 435 samples, validate on 108 samples\n",
      "Epoch 1/2\n",
      "435/435 [==============================] - 1s 3ms/sample - loss: 0.0530 - mae: 0.2869 - val_loss: 0.0257 - val_mae: 0.2002\n",
      "Epoch 2/2\n",
      "435/435 [==============================] - 0s 234us/sample - loss: 0.0335 - mae: 0.2228 - val_loss: 0.0131 - val_mae: 0.1462\n",
      "Train on 435 samples, validate on 108 samples\n",
      "Epoch 1/2\n",
      "435/435 [==============================] - 1s 3ms/sample - loss: 0.4609 - mae: 0.9179 - val_loss: 0.4605 - val_mae: 0.9406\n",
      "Epoch 2/2\n",
      "435/435 [==============================] - 0s 220us/sample - loss: 0.3540 - mae: 0.7863 - val_loss: 0.3418 - val_mae: 0.7998\n"
     ]
    },
    {
     "data": {
      "text/html": [
       "<span style=\"color:#4527A0\"><h1 style=\"font-size:18px\">Trial complete</h1></span>"
      ],
      "text/plain": [
       "<IPython.core.display.HTML object>"
      ]
     },
     "metadata": {},
     "output_type": "display_data"
    },
    {
     "data": {
      "text/html": [
       "<span style=\"color:#4527A0\"><h1 style=\"font-size:18px\">Trial summary</h1></span>"
      ],
      "text/plain": [
       "<IPython.core.display.HTML object>"
      ]
     },
     "metadata": {},
     "output_type": "display_data"
    },
    {
     "data": {
      "text/html": [
       "<span style=\"color:#7E57C2\"><h2 style=\"font-size:16px\">Hp values:</h2></span>"
      ],
      "text/plain": [
       "<IPython.core.display.HTML object>"
      ]
     },
     "metadata": {},
     "output_type": "display_data"
    },
    {
     "data": {
      "text/html": [
       "<span style=\"color:cyan\"> |-learning_rate: 1e-05</span>"
      ],
      "text/plain": [
       "<IPython.core.display.HTML object>"
      ]
     },
     "metadata": {},
     "output_type": "display_data"
    },
    {
     "data": {
      "text/html": [
       "<span style=\"color:blue\"> |-units: 60</span>"
      ],
      "text/plain": [
       "<IPython.core.display.HTML object>"
      ]
     },
     "metadata": {},
     "output_type": "display_data"
    },
    {
     "data": {
      "text/html": [
       "<span style=\"color:cyan\"> |-Score: 0.5045496225357056</span>"
      ],
      "text/plain": [
       "<IPython.core.display.HTML object>"
      ]
     },
     "metadata": {},
     "output_type": "display_data"
    },
    {
     "data": {
      "text/html": [
       "<span style=\"color:cyan\"> |-Best step: 0</span>"
      ],
      "text/plain": [
       "<IPython.core.display.HTML object>"
      ]
     },
     "metadata": {},
     "output_type": "display_data"
    },
    {
     "data": {
      "text/html": [
       "<span style=\"color:#4527A0\"><h1 style=\"font-size:18px\">Results summary</h1></span>"
      ],
      "text/plain": [
       "<IPython.core.display.HTML object>"
      ]
     },
     "metadata": {},
     "output_type": "display_data"
    },
    {
     "data": {
      "text/html": [
       "<span style=\"color:cyan\"> |-Results in test_dir/untitled_project</span>"
      ],
      "text/plain": [
       "<IPython.core.display.HTML object>"
      ]
     },
     "metadata": {},
     "output_type": "display_data"
    },
    {
     "data": {
      "text/html": [
       "<span style=\"color:cyan\"> |-Showing 10 best trials</span>"
      ],
      "text/plain": [
       "<IPython.core.display.HTML object>"
      ]
     },
     "metadata": {},
     "output_type": "display_data"
    },
    {
     "data": {
      "text/html": [
       "<span style=\"color:cyan\"> |-Objective: Objective(name='mae', direction='min') Score: 0.23691338300704956</span>"
      ],
      "text/plain": [
       "<IPython.core.display.HTML object>"
      ]
     },
     "metadata": {},
     "output_type": "display_data"
    },
    {
     "data": {
      "text/html": [
       "<span style=\"color:cyan\"> |-Objective: Objective(name='mae', direction='min') Score: 0.5045496225357056</span>"
      ],
      "text/plain": [
       "<IPython.core.display.HTML object>"
      ]
     },
     "metadata": {},
     "output_type": "display_data"
    },
    {
     "data": {
      "text/html": [
       "<span style=\"color:cyan\"> |-Objective: Objective(name='mae', direction='min') Score: 0.9227794408798218</span>"
      ],
      "text/plain": [
       "<IPython.core.display.HTML object>"
      ]
     },
     "metadata": {},
     "output_type": "display_data"
    }
   ],
   "source": [
    "tuner.search(X_train, \n",
    "             y_train, \n",
    "             epochs=EPOCHS,\n",
    "             validation_data=(X_test, y_test))\n",
    "\n",
    "tuner.results_summary()"
   ]
  },
  {
   "cell_type": "code",
   "execution_count": 27,
   "metadata": {},
   "outputs": [
    {
     "name": "stdout",
     "output_type": "stream",
     "text": [
      "Train on 348 samples, validate on 87 samples\n",
      "Epoch 1/200\n",
      "348/348 [==============================] - 1s 4ms/sample - loss: 0.0256 - mae: 0.1822 - val_loss: 0.0179 - val_mae: 0.1541\n",
      "Epoch 2/200\n",
      "348/348 [==============================] - 0s 306us/sample - loss: 0.0179 - mae: 0.1481 - val_loss: 0.0141 - val_mae: 0.1376\n",
      "Epoch 3/200\n",
      "348/348 [==============================] - 0s 305us/sample - loss: 0.0140 - mae: 0.1302 - val_loss: 0.0112 - val_mae: 0.1212\n",
      "Epoch 4/200\n",
      "348/348 [==============================] - 0s 343us/sample - loss: 0.0113 - mae: 0.1172 - val_loss: 0.0093 - val_mae: 0.1092\n",
      "Epoch 5/200\n",
      "348/348 [==============================] - 0s 346us/sample - loss: 0.0097 - mae: 0.1074 - val_loss: 0.0084 - val_mae: 0.1045\n",
      "Epoch 6/200\n",
      "348/348 [==============================] - 0s 355us/sample - loss: 0.0085 - mae: 0.1008 - val_loss: 0.0075 - val_mae: 0.0987\n",
      "Epoch 7/200\n",
      "348/348 [==============================] - 0s 319us/sample - loss: 0.0076 - mae: 0.0948 - val_loss: 0.0072 - val_mae: 0.0962\n",
      "Epoch 8/200\n",
      "348/348 [==============================] - 0s 304us/sample - loss: 0.0070 - mae: 0.0907 - val_loss: 0.0066 - val_mae: 0.0924\n",
      "Epoch 9/200\n",
      "348/348 [==============================] - 0s 307us/sample - loss: 0.0064 - mae: 0.0868 - val_loss: 0.0067 - val_mae: 0.0931\n",
      "Epoch 10/200\n",
      "348/348 [==============================] - 0s 313us/sample - loss: 0.0059 - mae: 0.0833 - val_loss: 0.0061 - val_mae: 0.0887\n",
      "Epoch 11/200\n",
      "348/348 [==============================] - 0s 310us/sample - loss: 0.0055 - mae: 0.0803 - val_loss: 0.0062 - val_mae: 0.0892\n",
      "Epoch 12/200\n",
      "348/348 [==============================] - 0s 345us/sample - loss: 0.0052 - mae: 0.0780 - val_loss: 0.0053 - val_mae: 0.0828\n",
      "Epoch 13/200\n",
      "348/348 [==============================] - 0s 357us/sample - loss: 0.0048 - mae: 0.0738 - val_loss: 0.0053 - val_mae: 0.0823\n",
      "Epoch 14/200\n",
      "348/348 [==============================] - 0s 324us/sample - loss: 0.0045 - mae: 0.0717 - val_loss: 0.0051 - val_mae: 0.0806\n",
      "Epoch 15/200\n",
      "348/348 [==============================] - 0s 315us/sample - loss: 0.0042 - mae: 0.0694 - val_loss: 0.0049 - val_mae: 0.0791\n",
      "Epoch 16/200\n",
      "348/348 [==============================] - 0s 328us/sample - loss: 0.0040 - mae: 0.0675 - val_loss: 0.0046 - val_mae: 0.0766\n",
      "Epoch 17/200\n",
      "348/348 [==============================] - 0s 321us/sample - loss: 0.0038 - mae: 0.0653 - val_loss: 0.0048 - val_mae: 0.0778\n",
      "Epoch 18/200\n",
      "348/348 [==============================] - 0s 319us/sample - loss: 0.0036 - mae: 0.0637 - val_loss: 0.0039 - val_mae: 0.0717\n",
      "Epoch 19/200\n",
      "348/348 [==============================] - 0s 313us/sample - loss: 0.0035 - mae: 0.0626 - val_loss: 0.0040 - val_mae: 0.0715\n",
      "Epoch 20/200\n",
      "348/348 [==============================] - 0s 313us/sample - loss: 0.0033 - mae: 0.0603 - val_loss: 0.0036 - val_mae: 0.0690\n",
      "Epoch 21/200\n",
      "348/348 [==============================] - 0s 321us/sample - loss: 0.0032 - mae: 0.0592 - val_loss: 0.0037 - val_mae: 0.0686\n",
      "Epoch 22/200\n",
      "348/348 [==============================] - 0s 310us/sample - loss: 0.0030 - mae: 0.0577 - val_loss: 0.0037 - val_mae: 0.0685\n",
      "Epoch 23/200\n",
      "348/348 [==============================] - 0s 311us/sample - loss: 0.0030 - mae: 0.0570 - val_loss: 0.0033 - val_mae: 0.0653\n",
      "Epoch 24/200\n",
      "348/348 [==============================] - 0s 311us/sample - loss: 0.0028 - mae: 0.0559 - val_loss: 0.0034 - val_mae: 0.0659\n",
      "Epoch 25/200\n",
      "348/348 [==============================] - 0s 323us/sample - loss: 0.0027 - mae: 0.0546 - val_loss: 0.0032 - val_mae: 0.0641\n",
      "Epoch 26/200\n",
      "348/348 [==============================] - 0s 310us/sample - loss: 0.0027 - mae: 0.0540 - val_loss: 0.0035 - val_mae: 0.0660\n",
      "Epoch 27/200\n",
      "348/348 [==============================] - 0s 313us/sample - loss: 0.0026 - mae: 0.0536 - val_loss: 0.0032 - val_mae: 0.0634\n",
      "Epoch 28/200\n",
      "348/348 [==============================] - 0s 315us/sample - loss: 0.0025 - mae: 0.0520 - val_loss: 0.0030 - val_mae: 0.0614\n",
      "Epoch 29/200\n",
      "348/348 [==============================] - 0s 338us/sample - loss: 0.0024 - mae: 0.0517 - val_loss: 0.0030 - val_mae: 0.0617\n",
      "Epoch 30/200\n",
      "348/348 [==============================] - 0s 304us/sample - loss: 0.0024 - mae: 0.0511 - val_loss: 0.0033 - val_mae: 0.0640\n",
      "Epoch 31/200\n",
      "348/348 [==============================] - 0s 323us/sample - loss: 0.0023 - mae: 0.0504 - val_loss: 0.0024 - val_mae: 0.0568\n",
      "Epoch 32/200\n",
      "348/348 [==============================] - 0s 315us/sample - loss: 0.0023 - mae: 0.0506 - val_loss: 0.0037 - val_mae: 0.0697\n",
      "Epoch 33/200\n",
      "348/348 [==============================] - 0s 319us/sample - loss: 0.0022 - mae: 0.0490 - val_loss: 0.0024 - val_mae: 0.0565\n",
      "Epoch 34/200\n",
      "348/348 [==============================] - 0s 327us/sample - loss: 0.0021 - mae: 0.0491 - val_loss: 0.0029 - val_mae: 0.0600\n",
      "Epoch 35/200\n",
      "348/348 [==============================] - 0s 326us/sample - loss: 0.0021 - mae: 0.0479 - val_loss: 0.0024 - val_mae: 0.0554\n",
      "Epoch 36/200\n",
      "348/348 [==============================] - 0s 324us/sample - loss: 0.0020 - mae: 0.0475 - val_loss: 0.0027 - val_mae: 0.0578\n",
      "Epoch 37/200\n",
      "348/348 [==============================] - 0s 320us/sample - loss: 0.0020 - mae: 0.0464 - val_loss: 0.0025 - val_mae: 0.0562\n",
      "Epoch 38/200\n",
      "348/348 [==============================] - 0s 316us/sample - loss: 0.0020 - mae: 0.0465 - val_loss: 0.0025 - val_mae: 0.0555\n",
      "Epoch 39/200\n",
      "348/348 [==============================] - 0s 313us/sample - loss: 0.0019 - mae: 0.0458 - val_loss: 0.0027 - val_mae: 0.0579\n",
      "Epoch 40/200\n",
      "348/348 [==============================] - 0s 313us/sample - loss: 0.0018 - mae: 0.0449 - val_loss: 0.0023 - val_mae: 0.0543\n",
      "Epoch 41/200\n",
      "348/348 [==============================] - 0s 315us/sample - loss: 0.0018 - mae: 0.0447 - val_loss: 0.0024 - val_mae: 0.0549\n",
      "Epoch 42/200\n",
      "348/348 [==============================] - 0s 307us/sample - loss: 0.0018 - mae: 0.0445 - val_loss: 0.0025 - val_mae: 0.0562\n",
      "Epoch 43/200\n",
      "348/348 [==============================] - 0s 308us/sample - loss: 0.0018 - mae: 0.0443 - val_loss: 0.0026 - val_mae: 0.0565\n",
      "Epoch 44/200\n",
      "348/348 [==============================] - 0s 309us/sample - loss: 0.0018 - mae: 0.0443 - val_loss: 0.0029 - val_mae: 0.0612\n",
      "Epoch 45/200\n",
      "348/348 [==============================] - 0s 309us/sample - loss: 0.0017 - mae: 0.0436 - val_loss: 0.0023 - val_mae: 0.0538\n",
      "Epoch 46/200\n",
      "348/348 [==============================] - 0s 311us/sample - loss: 0.0016 - mae: 0.0425 - val_loss: 0.0023 - val_mae: 0.0534\n",
      "Epoch 47/200\n",
      "348/348 [==============================] - 0s 316us/sample - loss: 0.0016 - mae: 0.0425 - val_loss: 0.0022 - val_mae: 0.0524\n",
      "Epoch 48/200\n",
      "348/348 [==============================] - 0s 314us/sample - loss: 0.0016 - mae: 0.0426 - val_loss: 0.0021 - val_mae: 0.0514\n",
      "Epoch 49/200\n",
      "348/348 [==============================] - 0s 309us/sample - loss: 0.0016 - mae: 0.0417 - val_loss: 0.0021 - val_mae: 0.0513\n",
      "Epoch 50/200\n",
      "348/348 [==============================] - 0s 312us/sample - loss: 0.0015 - mae: 0.0417 - val_loss: 0.0024 - val_mae: 0.0547\n",
      "Epoch 51/200\n",
      "348/348 [==============================] - 0s 312us/sample - loss: 0.0016 - mae: 0.0422 - val_loss: 0.0027 - val_mae: 0.0586\n",
      "Epoch 52/200\n",
      "348/348 [==============================] - 0s 305us/sample - loss: 0.0015 - mae: 0.0413 - val_loss: 0.0023 - val_mae: 0.0535\n",
      "Epoch 53/200\n",
      "348/348 [==============================] - 0s 319us/sample - loss: 0.0015 - mae: 0.0402 - val_loss: 0.0020 - val_mae: 0.0500\n",
      "Epoch 54/200\n",
      "348/348 [==============================] - 0s 315us/sample - loss: 0.0015 - mae: 0.0401 - val_loss: 0.0022 - val_mae: 0.0525\n",
      "Epoch 55/200\n",
      "348/348 [==============================] - 0s 318us/sample - loss: 0.0015 - mae: 0.0401 - val_loss: 0.0019 - val_mae: 0.0491\n",
      "Epoch 56/200\n",
      "348/348 [==============================] - 0s 326us/sample - loss: 0.0014 - mae: 0.0399 - val_loss: 0.0018 - val_mae: 0.0471\n",
      "Epoch 57/200\n",
      "348/348 [==============================] - 0s 324us/sample - loss: 0.0014 - mae: 0.0398 - val_loss: 0.0017 - val_mae: 0.0464\n",
      "Epoch 58/200\n",
      "348/348 [==============================] - 0s 316us/sample - loss: 0.0014 - mae: 0.0396 - val_loss: 0.0019 - val_mae: 0.0484\n",
      "Epoch 59/200\n",
      "348/348 [==============================] - 0s 319us/sample - loss: 0.0013 - mae: 0.0386 - val_loss: 0.0020 - val_mae: 0.0498\n",
      "Epoch 60/200\n",
      "348/348 [==============================] - 0s 315us/sample - loss: 0.0013 - mae: 0.0386 - val_loss: 0.0017 - val_mae: 0.0461\n",
      "Epoch 61/200\n",
      "348/348 [==============================] - 0s 319us/sample - loss: 0.0013 - mae: 0.0385 - val_loss: 0.0020 - val_mae: 0.0500\n",
      "Epoch 62/200\n",
      "348/348 [==============================] - 0s 319us/sample - loss: 0.0013 - mae: 0.0381 - val_loss: 0.0019 - val_mae: 0.0484\n",
      "Epoch 63/200\n",
      "348/348 [==============================] - 0s 320us/sample - loss: 0.0013 - mae: 0.0386 - val_loss: 0.0020 - val_mae: 0.0495\n",
      "Epoch 64/200\n",
      "348/348 [==============================] - 0s 322us/sample - loss: 0.0013 - mae: 0.0378 - val_loss: 0.0019 - val_mae: 0.0479\n",
      "Epoch 65/200\n",
      "348/348 [==============================] - 0s 326us/sample - loss: 0.0013 - mae: 0.0377 - val_loss: 0.0017 - val_mae: 0.0459\n",
      "Epoch 66/200\n",
      "348/348 [==============================] - 0s 334us/sample - loss: 0.0012 - mae: 0.0373 - val_loss: 0.0019 - val_mae: 0.0487\n",
      "Epoch 67/200\n",
      "348/348 [==============================] - 0s 312us/sample - loss: 0.0012 - mae: 0.0371 - val_loss: 0.0017 - val_mae: 0.0464\n",
      "Epoch 68/200\n",
      "348/348 [==============================] - 0s 323us/sample - loss: 0.0012 - mae: 0.0375 - val_loss: 0.0017 - val_mae: 0.0452\n",
      "Epoch 69/200\n",
      "348/348 [==============================] - 0s 311us/sample - loss: 0.0012 - mae: 0.0374 - val_loss: 0.0017 - val_mae: 0.0466\n",
      "Epoch 70/200\n",
      "348/348 [==============================] - 0s 307us/sample - loss: 0.0012 - mae: 0.0368 - val_loss: 0.0016 - val_mae: 0.0439\n",
      "Epoch 71/200\n",
      "348/348 [==============================] - 0s 324us/sample - loss: 0.0012 - mae: 0.0369 - val_loss: 0.0017 - val_mae: 0.0451\n",
      "Epoch 72/200\n",
      "348/348 [==============================] - 0s 322us/sample - loss: 0.0012 - mae: 0.0377 - val_loss: 0.0019 - val_mae: 0.0493\n",
      "Epoch 73/200\n",
      "348/348 [==============================] - 0s 302us/sample - loss: 0.0012 - mae: 0.0367 - val_loss: 0.0019 - val_mae: 0.0484\n",
      "Epoch 74/200\n",
      "348/348 [==============================] - 0s 324us/sample - loss: 0.0012 - mae: 0.0367 - val_loss: 0.0018 - val_mae: 0.0478\n",
      "Epoch 75/200\n",
      "348/348 [==============================] - 0s 324us/sample - loss: 0.0012 - mae: 0.0370 - val_loss: 0.0019 - val_mae: 0.0486\n",
      "Epoch 76/200\n",
      "348/348 [==============================] - 0s 320us/sample - loss: 0.0012 - mae: 0.0365 - val_loss: 0.0020 - val_mae: 0.0509\n",
      "Epoch 77/200\n",
      "348/348 [==============================] - 0s 316us/sample - loss: 0.0012 - mae: 0.0370 - val_loss: 0.0018 - val_mae: 0.0476\n",
      "Epoch 78/200\n",
      "348/348 [==============================] - 0s 330us/sample - loss: 0.0011 - mae: 0.0365 - val_loss: 0.0017 - val_mae: 0.0451\n",
      "Epoch 79/200\n",
      "348/348 [==============================] - 0s 326us/sample - loss: 0.0011 - mae: 0.0363 - val_loss: 0.0015 - val_mae: 0.0430\n",
      "Epoch 80/200\n",
      "348/348 [==============================] - 0s 313us/sample - loss: 0.0011 - mae: 0.0355 - val_loss: 0.0018 - val_mae: 0.0471\n",
      "Epoch 81/200\n",
      "348/348 [==============================] - 0s 348us/sample - loss: 0.0011 - mae: 0.0354 - val_loss: 0.0018 - val_mae: 0.0477\n",
      "Epoch 82/200\n",
      "348/348 [==============================] - 0s 311us/sample - loss: 0.0011 - mae: 0.0357 - val_loss: 0.0015 - val_mae: 0.0421\n",
      "Epoch 83/200\n",
      "348/348 [==============================] - 0s 310us/sample - loss: 0.0011 - mae: 0.0351 - val_loss: 0.0017 - val_mae: 0.0452\n",
      "Epoch 84/200\n",
      "348/348 [==============================] - 0s 326us/sample - loss: 0.0010 - mae: 0.0347 - val_loss: 0.0017 - val_mae: 0.0460\n",
      "Epoch 85/200\n",
      "348/348 [==============================] - 0s 309us/sample - loss: 0.0011 - mae: 0.0353 - val_loss: 0.0016 - val_mae: 0.0448\n",
      "Epoch 86/200\n",
      "348/348 [==============================] - 0s 317us/sample - loss: 0.0010 - mae: 0.0348 - val_loss: 0.0014 - val_mae: 0.0412\n",
      "Epoch 87/200\n",
      "348/348 [==============================] - 0s 319us/sample - loss: 0.0011 - mae: 0.0351 - val_loss: 0.0014 - val_mae: 0.0415\n",
      "Epoch 88/200\n",
      "348/348 [==============================] - 0s 315us/sample - loss: 0.0011 - mae: 0.0351 - val_loss: 0.0014 - val_mae: 0.0417\n",
      "Epoch 89/200\n",
      "348/348 [==============================] - 0s 319us/sample - loss: 0.0010 - mae: 0.0341 - val_loss: 0.0016 - val_mae: 0.0437\n",
      "Epoch 90/200\n",
      "348/348 [==============================] - 0s 312us/sample - loss: 9.9909e-04 - mae: 0.0341 - val_loss: 0.0016 - val_mae: 0.0445\n",
      "Epoch 91/200\n",
      "348/348 [==============================] - 0s 321us/sample - loss: 0.0010 - mae: 0.0344 - val_loss: 0.0017 - val_mae: 0.0453\n",
      "Epoch 92/200\n",
      "348/348 [==============================] - 0s 325us/sample - loss: 9.9750e-04 - mae: 0.0337 - val_loss: 0.0017 - val_mae: 0.0460\n",
      "Epoch 93/200\n",
      "348/348 [==============================] - 0s 317us/sample - loss: 9.8084e-04 - mae: 0.0338 - val_loss: 0.0014 - val_mae: 0.0418\n",
      "Epoch 94/200\n",
      "348/348 [==============================] - 0s 323us/sample - loss: 9.6599e-04 - mae: 0.0338 - val_loss: 0.0014 - val_mae: 0.0415\n",
      "Epoch 95/200\n",
      "348/348 [==============================] - 0s 318us/sample - loss: 9.7114e-04 - mae: 0.0337 - val_loss: 0.0015 - val_mae: 0.0432\n",
      "Epoch 96/200\n",
      "348/348 [==============================] - 0s 320us/sample - loss: 9.7631e-04 - mae: 0.0339 - val_loss: 0.0018 - val_mae: 0.0469\n",
      "Epoch 97/200\n",
      "348/348 [==============================] - 0s 321us/sample - loss: 9.7137e-04 - mae: 0.0340 - val_loss: 0.0017 - val_mae: 0.0462\n",
      "Epoch 98/200\n",
      "348/348 [==============================] - 0s 309us/sample - loss: 0.0010 - mae: 0.0346 - val_loss: 0.0016 - val_mae: 0.0432\n",
      "Epoch 99/200\n",
      "348/348 [==============================] - 0s 319us/sample - loss: 9.6473e-04 - mae: 0.0336 - val_loss: 0.0013 - val_mae: 0.0405\n",
      "Epoch 100/200\n",
      "348/348 [==============================] - 0s 319us/sample - loss: 0.0010 - mae: 0.0346 - val_loss: 0.0013 - val_mae: 0.0400\n",
      "Epoch 101/200\n",
      "348/348 [==============================] - 0s 312us/sample - loss: 9.4723e-04 - mae: 0.0333 - val_loss: 0.0015 - val_mae: 0.0420\n",
      "Epoch 102/200\n",
      "348/348 [==============================] - 0s 324us/sample - loss: 9.4576e-04 - mae: 0.0332 - val_loss: 0.0014 - val_mae: 0.0411\n",
      "Epoch 103/200\n",
      "348/348 [==============================] - 0s 329us/sample - loss: 9.3674e-04 - mae: 0.0332 - val_loss: 0.0014 - val_mae: 0.0405\n",
      "Epoch 104/200\n",
      "348/348 [==============================] - 0s 324us/sample - loss: 9.3687e-04 - mae: 0.0338 - val_loss: 0.0014 - val_mae: 0.0406\n",
      "Epoch 105/200\n",
      "348/348 [==============================] - 0s 335us/sample - loss: 9.2139e-04 - mae: 0.0327 - val_loss: 0.0013 - val_mae: 0.0400\n",
      "Epoch 106/200\n",
      "348/348 [==============================] - 0s 331us/sample - loss: 9.6656e-04 - mae: 0.0339 - val_loss: 0.0014 - val_mae: 0.0410\n",
      "Epoch 107/200\n",
      "348/348 [==============================] - 0s 320us/sample - loss: 9.1851e-04 - mae: 0.0330 - val_loss: 0.0017 - val_mae: 0.0453\n",
      "Epoch 108/200\n",
      "348/348 [==============================] - 0s 318us/sample - loss: 8.9039e-04 - mae: 0.0326 - val_loss: 0.0016 - val_mae: 0.0433\n",
      "Epoch 109/200\n",
      "348/348 [==============================] - 0s 315us/sample - loss: 8.9893e-04 - mae: 0.0322 - val_loss: 0.0015 - val_mae: 0.0423\n",
      "Epoch 110/200\n",
      "348/348 [==============================] - 0s 320us/sample - loss: 8.9882e-04 - mae: 0.0324 - val_loss: 0.0015 - val_mae: 0.0424\n",
      "Epoch 111/200\n",
      "348/348 [==============================] - 0s 340us/sample - loss: 8.8411e-04 - mae: 0.0320 - val_loss: 0.0014 - val_mae: 0.0402\n",
      "Epoch 112/200\n",
      "348/348 [==============================] - 0s 359us/sample - loss: 8.9905e-04 - mae: 0.0327 - val_loss: 0.0013 - val_mae: 0.0401\n",
      "Epoch 113/200\n",
      "348/348 [==============================] - 0s 333us/sample - loss: 8.7483e-04 - mae: 0.0322 - val_loss: 0.0013 - val_mae: 0.0399\n",
      "Epoch 114/200\n",
      "348/348 [==============================] - 0s 307us/sample - loss: 9.1341e-04 - mae: 0.0329 - val_loss: 0.0013 - val_mae: 0.0390\n",
      "Epoch 115/200\n",
      "348/348 [==============================] - 0s 322us/sample - loss: 8.8206e-04 - mae: 0.0321 - val_loss: 0.0014 - val_mae: 0.0407\n",
      "Epoch 116/200\n",
      "348/348 [==============================] - 0s 377us/sample - loss: 8.7725e-04 - mae: 0.0318 - val_loss: 0.0016 - val_mae: 0.0433\n",
      "Epoch 117/200\n",
      "348/348 [==============================] - 0s 348us/sample - loss: 8.5519e-04 - mae: 0.0314 - val_loss: 0.0014 - val_mae: 0.0410\n",
      "Epoch 118/200\n",
      "348/348 [==============================] - 0s 332us/sample - loss: 8.5848e-04 - mae: 0.0318 - val_loss: 0.0014 - val_mae: 0.0417\n",
      "Epoch 119/200\n",
      "348/348 [==============================] - 0s 335us/sample - loss: 8.4028e-04 - mae: 0.0314 - val_loss: 0.0013 - val_mae: 0.0392\n",
      "Epoch 120/200\n",
      "348/348 [==============================] - 0s 319us/sample - loss: 8.3965e-04 - mae: 0.0313 - val_loss: 0.0014 - val_mae: 0.0400\n",
      "Epoch 121/200\n",
      "348/348 [==============================] - 0s 332us/sample - loss: 8.4558e-04 - mae: 0.0316 - val_loss: 0.0014 - val_mae: 0.0407\n",
      "Epoch 122/200\n",
      "348/348 [==============================] - 0s 354us/sample - loss: 8.4828e-04 - mae: 0.0316 - val_loss: 0.0013 - val_mae: 0.0393\n",
      "Epoch 123/200\n",
      "348/348 [==============================] - 0s 337us/sample - loss: 8.5521e-04 - mae: 0.0320 - val_loss: 0.0014 - val_mae: 0.0403\n",
      "Epoch 124/200\n",
      "348/348 [==============================] - 0s 331us/sample - loss: 8.7725e-04 - mae: 0.0324 - val_loss: 0.0014 - val_mae: 0.0406\n",
      "Epoch 125/200\n",
      "348/348 [==============================] - 0s 320us/sample - loss: 9.1804e-04 - mae: 0.0328 - val_loss: 0.0018 - val_mae: 0.0466\n",
      "Epoch 126/200\n",
      "348/348 [==============================] - 0s 359us/sample - loss: 8.5755e-04 - mae: 0.0318 - val_loss: 0.0016 - val_mae: 0.0437\n",
      "Epoch 127/200\n",
      "348/348 [==============================] - 0s 346us/sample - loss: 8.1202e-04 - mae: 0.0309 - val_loss: 0.0013 - val_mae: 0.0386\n",
      "Epoch 128/200\n",
      "348/348 [==============================] - 0s 314us/sample - loss: 8.2402e-04 - mae: 0.0308 - val_loss: 0.0013 - val_mae: 0.0384\n",
      "Epoch 129/200\n",
      "348/348 [==============================] - 0s 339us/sample - loss: 8.2067e-04 - mae: 0.0313 - val_loss: 0.0012 - val_mae: 0.0385\n",
      "Epoch 130/200\n",
      "348/348 [==============================] - 0s 347us/sample - loss: 8.1045e-04 - mae: 0.0305 - val_loss: 0.0014 - val_mae: 0.0407\n",
      "Epoch 131/200\n",
      "348/348 [==============================] - 0s 373us/sample - loss: 8.0775e-04 - mae: 0.0309 - val_loss: 0.0013 - val_mae: 0.0395\n",
      "Epoch 132/200\n",
      "348/348 [==============================] - 0s 350us/sample - loss: 8.0710e-04 - mae: 0.0310 - val_loss: 0.0015 - val_mae: 0.0425\n",
      "Epoch 133/200\n",
      "348/348 [==============================] - 0s 353us/sample - loss: 8.2461e-04 - mae: 0.0311 - val_loss: 0.0014 - val_mae: 0.0403\n",
      "Epoch 134/200\n",
      "348/348 [==============================] - 0s 329us/sample - loss: 8.1725e-04 - mae: 0.0307 - val_loss: 0.0013 - val_mae: 0.0396\n",
      "Epoch 135/200\n",
      "348/348 [==============================] - 0s 361us/sample - loss: 7.9906e-04 - mae: 0.0307 - val_loss: 0.0013 - val_mae: 0.0394\n",
      "Epoch 136/200\n",
      "348/348 [==============================] - 0s 348us/sample - loss: 8.1125e-04 - mae: 0.0314 - val_loss: 0.0012 - val_mae: 0.0382\n",
      "Epoch 137/200\n",
      "348/348 [==============================] - 0s 326us/sample - loss: 8.5224e-04 - mae: 0.0320 - val_loss: 0.0012 - val_mae: 0.0378\n",
      "Epoch 138/200\n",
      "348/348 [==============================] - 0s 333us/sample - loss: 7.7787e-04 - mae: 0.0304 - val_loss: 0.0013 - val_mae: 0.0387\n",
      "Epoch 139/200\n",
      "348/348 [==============================] - 0s 374us/sample - loss: 7.8544e-04 - mae: 0.0304 - val_loss: 0.0014 - val_mae: 0.0408\n",
      "Epoch 140/200\n",
      "348/348 [==============================] - 0s 367us/sample - loss: 7.8154e-04 - mae: 0.0301 - val_loss: 0.0013 - val_mae: 0.0388\n",
      "Epoch 141/200\n",
      "348/348 [==============================] - 0s 347us/sample - loss: 7.6957e-04 - mae: 0.0302 - val_loss: 0.0014 - val_mae: 0.0414\n",
      "Epoch 142/200\n",
      "348/348 [==============================] - 0s 347us/sample - loss: 7.9115e-04 - mae: 0.0304 - val_loss: 0.0013 - val_mae: 0.0387\n",
      "Epoch 143/200\n",
      "348/348 [==============================] - 0s 355us/sample - loss: 7.7274e-04 - mae: 0.0300 - val_loss: 0.0013 - val_mae: 0.0384\n",
      "Epoch 144/200\n",
      "348/348 [==============================] - 0s 330us/sample - loss: 7.8094e-04 - mae: 0.0308 - val_loss: 0.0013 - val_mae: 0.0394\n",
      "Epoch 145/200\n",
      "348/348 [==============================] - 0s 338us/sample - loss: 7.7088e-04 - mae: 0.0301 - val_loss: 0.0013 - val_mae: 0.0381\n",
      "Epoch 146/200\n",
      "348/348 [==============================] - 0s 338us/sample - loss: 7.7796e-04 - mae: 0.0302 - val_loss: 0.0013 - val_mae: 0.0382\n",
      "Epoch 147/200\n",
      "348/348 [==============================] - 0s 359us/sample - loss: 7.6519e-04 - mae: 0.0305 - val_loss: 0.0012 - val_mae: 0.0377\n",
      "Epoch 148/200\n",
      "348/348 [==============================] - 0s 334us/sample - loss: 8.4621e-04 - mae: 0.0323 - val_loss: 0.0012 - val_mae: 0.0377\n",
      "Epoch 149/200\n",
      "348/348 [==============================] - 0s 367us/sample - loss: 8.2113e-04 - mae: 0.0322 - val_loss: 0.0012 - val_mae: 0.0376\n",
      "Epoch 150/200\n",
      "348/348 [==============================] - 0s 331us/sample - loss: 7.6896e-04 - mae: 0.0303 - val_loss: 0.0014 - val_mae: 0.0400\n",
      "Epoch 151/200\n",
      "348/348 [==============================] - 0s 332us/sample - loss: 8.3887e-04 - mae: 0.0322 - val_loss: 0.0013 - val_mae: 0.0388\n",
      "Epoch 152/200\n",
      "348/348 [==============================] - 0s 328us/sample - loss: 7.7015e-04 - mae: 0.0303 - val_loss: 0.0012 - val_mae: 0.0374\n",
      "Epoch 153/200\n",
      "348/348 [==============================] - 0s 370us/sample - loss: 7.4136e-04 - mae: 0.0295 - val_loss: 0.0014 - val_mae: 0.0409\n",
      "Epoch 154/200\n",
      "348/348 [==============================] - 0s 338us/sample - loss: 7.4412e-04 - mae: 0.0296 - val_loss: 0.0012 - val_mae: 0.0377\n",
      "Epoch 155/200\n",
      "348/348 [==============================] - 0s 368us/sample - loss: 7.9100e-04 - mae: 0.0314 - val_loss: 0.0012 - val_mae: 0.0376\n",
      "Epoch 156/200\n",
      "348/348 [==============================] - 0s 338us/sample - loss: 8.4078e-04 - mae: 0.0320 - val_loss: 0.0013 - val_mae: 0.0391\n",
      "Epoch 157/200\n",
      "348/348 [==============================] - 0s 347us/sample - loss: 8.6605e-04 - mae: 0.0327 - val_loss: 0.0012 - val_mae: 0.0378\n",
      "Epoch 158/200\n",
      "348/348 [==============================] - 0s 347us/sample - loss: 7.7919e-04 - mae: 0.0303 - val_loss: 0.0013 - val_mae: 0.0396\n",
      "Epoch 159/200\n",
      "348/348 [==============================] - 0s 407us/sample - loss: 7.3505e-04 - mae: 0.0295 - val_loss: 0.0012 - val_mae: 0.0379\n",
      "Epoch 160/200\n",
      "348/348 [==============================] - 0s 346us/sample - loss: 7.3604e-04 - mae: 0.0295 - val_loss: 0.0013 - val_mae: 0.0391\n",
      "Epoch 161/200\n",
      "348/348 [==============================] - 0s 361us/sample - loss: 7.2620e-04 - mae: 0.0292 - val_loss: 0.0013 - val_mae: 0.0382\n",
      "Epoch 162/200\n",
      "348/348 [==============================] - 0s 374us/sample - loss: 7.3453e-04 - mae: 0.0296 - val_loss: 0.0017 - val_mae: 0.0453\n",
      "Epoch 163/200\n",
      "348/348 [==============================] - 0s 358us/sample - loss: 7.6607e-04 - mae: 0.0298 - val_loss: 0.0015 - val_mae: 0.0418\n",
      "Epoch 164/200\n",
      "348/348 [==============================] - 0s 343us/sample - loss: 7.3188e-04 - mae: 0.0296 - val_loss: 0.0012 - val_mae: 0.0376\n",
      "Epoch 165/200\n",
      "348/348 [==============================] - 0s 389us/sample - loss: 7.3857e-04 - mae: 0.0295 - val_loss: 0.0013 - val_mae: 0.0384\n",
      "Epoch 166/200\n",
      "348/348 [==============================] - 0s 380us/sample - loss: 7.3651e-04 - mae: 0.0296 - val_loss: 0.0014 - val_mae: 0.0404\n",
      "Epoch 167/200\n",
      "348/348 [==============================] - 0s 371us/sample - loss: 7.7173e-04 - mae: 0.0298 - val_loss: 0.0012 - val_mae: 0.0371\n",
      "Epoch 168/200\n",
      "348/348 [==============================] - 0s 376us/sample - loss: 7.4177e-04 - mae: 0.0297 - val_loss: 0.0012 - val_mae: 0.0373\n",
      "Epoch 169/200\n",
      "348/348 [==============================] - 0s 357us/sample - loss: 7.1014e-04 - mae: 0.0289 - val_loss: 0.0015 - val_mae: 0.0417\n",
      "Epoch 170/200\n",
      "348/348 [==============================] - 0s 363us/sample - loss: 7.4118e-04 - mae: 0.0299 - val_loss: 0.0016 - val_mae: 0.0438\n",
      "Epoch 171/200\n",
      "348/348 [==============================] - 0s 407us/sample - loss: 7.5322e-04 - mae: 0.0300 - val_loss: 0.0015 - val_mae: 0.0421\n",
      "Epoch 172/200\n",
      "348/348 [==============================] - 0s 338us/sample - loss: 7.1145e-04 - mae: 0.0291 - val_loss: 0.0013 - val_mae: 0.0395\n",
      "Epoch 173/200\n",
      "348/348 [==============================] - 0s 376us/sample - loss: 7.0820e-04 - mae: 0.0289 - val_loss: 0.0013 - val_mae: 0.0388\n",
      "Epoch 174/200\n",
      "348/348 [==============================] - 0s 383us/sample - loss: 7.0574e-04 - mae: 0.0288 - val_loss: 0.0014 - val_mae: 0.0406\n",
      "Epoch 175/200\n",
      "348/348 [==============================] - 0s 372us/sample - loss: 7.2473e-04 - mae: 0.0294 - val_loss: 0.0012 - val_mae: 0.0376\n",
      "Epoch 176/200\n",
      "348/348 [==============================] - 0s 337us/sample - loss: 7.6000e-04 - mae: 0.0306 - val_loss: 0.0013 - val_mae: 0.0390\n",
      "Epoch 177/200\n",
      "348/348 [==============================] - 0s 385us/sample - loss: 7.6012e-04 - mae: 0.0304 - val_loss: 0.0013 - val_mae: 0.0389\n",
      "Epoch 178/200\n",
      "348/348 [==============================] - 0s 359us/sample - loss: 7.0784e-04 - mae: 0.0288 - val_loss: 0.0014 - val_mae: 0.0400\n",
      "Epoch 179/200\n",
      "348/348 [==============================] - 0s 340us/sample - loss: 7.3408e-04 - mae: 0.0297 - val_loss: 0.0014 - val_mae: 0.0408\n",
      "Epoch 180/200\n",
      "348/348 [==============================] - 0s 333us/sample - loss: 6.9552e-04 - mae: 0.0284 - val_loss: 0.0012 - val_mae: 0.0372\n",
      "Epoch 181/200\n",
      "348/348 [==============================] - 0s 343us/sample - loss: 7.0305e-04 - mae: 0.0287 - val_loss: 0.0012 - val_mae: 0.0371\n",
      "Epoch 182/200\n",
      "348/348 [==============================] - 0s 357us/sample - loss: 6.8855e-04 - mae: 0.0280 - val_loss: 0.0013 - val_mae: 0.0384\n",
      "Epoch 183/200\n",
      "348/348 [==============================] - 0s 368us/sample - loss: 7.2289e-04 - mae: 0.0296 - val_loss: 0.0012 - val_mae: 0.0368\n",
      "Epoch 184/200\n",
      "348/348 [==============================] - 0s 362us/sample - loss: 7.2322e-04 - mae: 0.0295 - val_loss: 0.0012 - val_mae: 0.0366\n",
      "Epoch 185/200\n",
      "348/348 [==============================] - 0s 355us/sample - loss: 7.0692e-04 - mae: 0.0291 - val_loss: 0.0012 - val_mae: 0.0373\n",
      "Epoch 186/200\n",
      "348/348 [==============================] - 0s 373us/sample - loss: 7.0408e-04 - mae: 0.0292 - val_loss: 0.0012 - val_mae: 0.0372\n",
      "Epoch 187/200\n",
      "348/348 [==============================] - 0s 346us/sample - loss: 6.8026e-04 - mae: 0.0285 - val_loss: 0.0012 - val_mae: 0.0375\n",
      "Epoch 188/200\n",
      "348/348 [==============================] - 0s 348us/sample - loss: 6.8938e-04 - mae: 0.0285 - val_loss: 0.0012 - val_mae: 0.0369\n",
      "Epoch 189/200\n",
      "348/348 [==============================] - 0s 359us/sample - loss: 7.0799e-04 - mae: 0.0287 - val_loss: 0.0012 - val_mae: 0.0372\n",
      "Epoch 190/200\n",
      "348/348 [==============================] - 0s 336us/sample - loss: 7.1621e-04 - mae: 0.0288 - val_loss: 0.0012 - val_mae: 0.0366\n",
      "Epoch 191/200\n",
      "348/348 [==============================] - 0s 342us/sample - loss: 7.0657e-04 - mae: 0.0290 - val_loss: 0.0012 - val_mae: 0.0368\n",
      "Epoch 192/200\n",
      "348/348 [==============================] - 0s 400us/sample - loss: 6.9799e-04 - mae: 0.0288 - val_loss: 0.0013 - val_mae: 0.0381\n",
      "Epoch 193/200\n",
      "348/348 [==============================] - 0s 341us/sample - loss: 6.9664e-04 - mae: 0.0287 - val_loss: 0.0013 - val_mae: 0.0387\n",
      "Epoch 194/200\n",
      "348/348 [==============================] - 0s 339us/sample - loss: 7.1608e-04 - mae: 0.0294 - val_loss: 0.0012 - val_mae: 0.0368\n",
      "Epoch 195/200\n",
      "348/348 [==============================] - 0s 347us/sample - loss: 7.2084e-04 - mae: 0.0292 - val_loss: 0.0012 - val_mae: 0.0373\n",
      "Epoch 196/200\n",
      "348/348 [==============================] - 0s 329us/sample - loss: 7.4251e-04 - mae: 0.0296 - val_loss: 0.0012 - val_mae: 0.0369\n",
      "Epoch 197/200\n",
      "348/348 [==============================] - 0s 353us/sample - loss: 7.1103e-04 - mae: 0.0292 - val_loss: 0.0012 - val_mae: 0.0368\n",
      "Epoch 198/200\n",
      "348/348 [==============================] - 0s 385us/sample - loss: 6.7537e-04 - mae: 0.0281 - val_loss: 0.0013 - val_mae: 0.0389\n",
      "Epoch 199/200\n",
      "348/348 [==============================] - 0s 371us/sample - loss: 6.7403e-04 - mae: 0.0283 - val_loss: 0.0012 - val_mae: 0.0376\n",
      "Epoch 200/200\n",
      "348/348 [==============================] - 0s 343us/sample - loss: 6.7757e-04 - mae: 0.0284 - val_loss: 0.0012 - val_mae: 0.0376\n"
     ]
    }
   ],
   "source": [
    "model = tuner.get_best_models(num_models=1)\n",
    "\n",
    "history = model[0].fit(\n",
    "            x=X_train,\n",
    "            y=y_train, \n",
    "            epochs=200,\n",
    "            batch_size=bs, \n",
    "            validation_split=0.2,\n",
    "            verbose=1)"
   ]
  },
  {
   "cell_type": "code",
   "execution_count": 28,
   "metadata": {},
   "outputs": [
    {
     "name": "stdout",
     "output_type": "stream",
     "text": [
      "Model: \"sequential_1\"\n",
      "_________________________________________________________________\n",
      "Layer (type)                 Output Shape              Param #   \n",
      "=================================================================\n",
      "simple_rnn_2 (SimpleRNN)     (None, 20, 20)            440       \n",
      "_________________________________________________________________\n",
      "simple_rnn_3 (SimpleRNN)     (None, 40)                2440      \n",
      "_________________________________________________________________\n",
      "dense_1 (Dense)              (None, 1)                 41        \n",
      "=================================================================\n",
      "Total params: 2,921\n",
      "Trainable params: 2,921\n",
      "Non-trainable params: 0\n",
      "_________________________________________________________________\n"
     ]
    }
   ],
   "source": [
    "model[0].summary()"
   ]
  },
  {
   "cell_type": "code",
   "execution_count": 29,
   "metadata": {},
   "outputs": [
    {
     "data": {
      "text/plain": [
       "<Figure size 432x288 with 0 Axes>"
      ]
     },
     "execution_count": 29,
     "metadata": {},
     "output_type": "execute_result"
    },
    {
     "data": {
      "image/png": "[encoded data removed]",
      "text/plain": [
       "<Figure size 432x288 with 1 Axes>"
      ]
     },
     "metadata": {
      "needs_background": "light"
     },
     "output_type": "display_data"
    },
    {
     "data": {
      "text/plain": [
       "<Figure size 432x288 with 0 Axes>"
      ]
     },
     "metadata": {},
     "output_type": "display_data"
    }
   ],
   "source": [
    "mae=history.history['mae']\n",
    "loss=history.history['loss']\n",
    "\n",
    "epochs=range(len(loss)) # Get number of epochs\n",
    "\n",
    "#------------------------------------------------\n",
    "# Plot MAE and Loss\n",
    "#------------------------------------------------\n",
    "plt.plot(epochs, mae, 'r')\n",
    "plt.plot(epochs, loss, 'b')\n",
    "plt.title('MAE and Loss')\n",
    "plt.xlabel(\"Epochs\")\n",
    "plt.ylabel(\"Accuracy\")\n",
    "plt.legend([\"MAE\", \"Loss\"])\n",
    "\n",
    "plt.figure()"
   ]
  },
  {
   "cell_type": "code",
   "execution_count": 30,
   "metadata": {},
   "outputs": [
    {
     "data": {
      "text/plain": [
       "0.028390959"
      ]
     },
     "execution_count": 30,
     "metadata": {},
     "output_type": "execute_result"
    }
   ],
   "source": [
    "mae[-1]"
   ]
  },
  {
   "cell_type": "code",
   "execution_count": 31,
   "metadata": {},
   "outputs": [
    {
     "data": {
      "text/plain": [
       "<matplotlib.legend.Legend at 0x7fe113c31fd0>"
      ]
     },
     "execution_count": 31,
     "metadata": {},
     "output_type": "execute_result"
    },
    {
     "data": {
      "image/png": "[encoded data removed]",
      "text/plain": [
       "<Figure size 720x432 with 1 Axes>"
      ]
     },
     "metadata": {
      "needs_background": "light"
     },
     "output_type": "display_data"
    }
   ],
   "source": [
    "forecast=[]\n",
    "for time in range(len(ser_scl) - look_back):\n",
    "  forecast.append(model[0].predict(ser_scl[time:time + look_back][np.newaxis]))\n",
    "\n",
    "forecast = forecast[split_time - look_back:]\n",
    "results = np.array(forecast)[:, 0, 0]\n",
    "\n",
    "\n",
    "plt.figure(figsize=(10, 6))\n",
    "\n",
    "\n",
    "plot_series(time_valid, ser_scl[split_time:], label='Actual')\n",
    "plot_series(time_valid, results, label='Prediction')\n",
    "plt.legend()"
   ]
  },
  {
   "cell_type": "code",
   "execution_count": null,
   "metadata": {},
   "outputs": [],
   "source": []
  }
 ],
 "metadata": {
  "kernelspec": {
   "display_name": "Python 3",
   "language": "python",
   "name": "python3"
  },
  "language_info": {
   "codemirror_mode": {
    "name": "ipython",
    "version": 3
   },
   "file_extension": ".py",
   "mimetype": "text/x-python",
   "name": "python",
   "nbconvert_exporter": "python",
   "pygments_lexer": "ipython3",
   "version": "3.6.9"
  }
 },
 "nbformat": 4,
 "nbformat_minor": 2
}
