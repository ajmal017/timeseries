{
 "cells": [
  {
   "cell_type": "code",
   "execution_count": 1,
   "metadata": {},
   "outputs": [],
   "source": [
    "import numpy as np\n",
    "import matplotlib.pyplot as plt\n",
    "import pandas as pd\n",
    "\n",
    "from scipy.integrate import odeint"
   ]
  },
  {
   "cell_type": "code",
   "execution_count": 2,
   "metadata": {},
   "outputs": [],
   "source": [
    "from sklearn.metrics import r2_score, mean_absolute_error\n",
    "from sklearn.metrics import mean_squared_error, median_absolute_error"
   ]
  },
  {
   "cell_type": "code",
   "execution_count": 3,
   "metadata": {},
   "outputs": [],
   "source": [
    "def mean_absolute_percentage_error(y_true, y_pred): \n",
    "    return np.mean(np.abs((y_true - y_pred) / y_true)) * 100 "
   ]
  },
  {
   "cell_type": "code",
   "execution_count": 4,
   "metadata": {},
   "outputs": [],
   "source": [
    "def symmetric_mape(y_true, y_pred, eps = 1e-8):\n",
    "    summ = ((np.abs(y_true) + np.abs(y_pred)) + eps)\n",
    "    return np.mean(np.abs(y_pred - y_true) / summ) * 100"
   ]
  },
  {
   "cell_type": "code",
   "execution_count": 5,
   "metadata": {},
   "outputs": [],
   "source": [
    "def print_scores(y_test, y_pred):\n",
    "    print(f\"R2 score: {r2_score(y_test, y_pred)}\")\n",
    "    print(f\"MSE score: {mean_squared_error(y_test, y_pred)}\")\n",
    "    print(f\"MAE score: {mean_absolute_error(y_test, y_pred)}\")\n",
    "    print(f\"Median AE score: {median_absolute_error(y_test, y_pred)}\")\n",
    "    print(f\"MAPE score: {mean_absolute_percentage_error(y_test, y_pred)}\")\n",
    "    print(f\"SMAPE score: {symmetric_mape(y_test, y_pred)}\")"
   ]
  },
  {
   "cell_type": "markdown",
   "metadata": {},
   "source": [
    "# 1. Discovering governing equations using the SINDy algorithm\n",
    "\n",
    "Paper: https://www.pnas.org/content/113/15/3932"
   ]
  },
  {
   "cell_type": "markdown",
   "metadata": {},
   "source": [
    "SINDy provides an algorithm to discover governing dynamical equations given a time series **x(t)**. The three steps in this algorithm are:\n",
    " - Time derivative: Perhaps the trickiest part, especially for noisy time series although one can use total variation regularized derivatives for such cases as in [here](https://github.com/stur86/tvregdiff)\n",
    " - Basis: Some non-linear basis of the original time series that could be polynomial, trigonometric (see the paper above)\n",
    " - Regularized linear regression: Apply LASSO and/or sequential thresholding least squares.\n",
    " \n",
    "I have personally found that SINDy is not so good with series that are too noisy and/or have trends. Both these problems could be addressed using pre-processing.\n",
    "\n",
    "SINDy can also be used for **forecasting**, which is trivial once one discovers the dynamical equations."
   ]
  },
  {
   "cell_type": "markdown",
   "metadata": {},
   "source": [
    "## Create synthetic dataset\n",
    "\n",
    "Had trouble finding a good function. \n",
    "\n",
    "**REMEMBER**: change `dx1dt`, `dx2dt` also if you change the ranfun below."
   ]
  },
  {
   "cell_type": "code",
   "execution_count": 6,
   "metadata": {},
   "outputs": [],
   "source": [
    "def fun(y, t):\n",
    "    x1, x2 = y\n",
    "    dxdt = [-x1**3 - x2, x1 - x2**3]\n",
    "    return dxdt\n",
    "\n",
    "t_full = np.linspace(0, 15, 1501)\n",
    "\n",
    "# The following two functions work great, with alpha = 0.0001, they are being correctly classified.\n",
    "#y0 = [0.1, 0.05] # LINEAR: small x1, x2 => Linear coupled oscillator\n",
    "y0 = [0.5, 0.5] # NON-LINEAR: Getting close to triggering non-linear effects"
   ]
  },
  {
   "cell_type": "markdown",
   "metadata": {},
   "source": [
    "**Solve** the ODE:\n",
    "\n",
    "$$\n",
    "\\begin{align}\n",
    "\\frac{dx_1}{dt} &= -x_1^3 - x_2 \\\\\n",
    "\\frac{dx_2}{dt} &= x_1 - x_2^3 \n",
    "\\end{align}\n",
    "$$"
   ]
  },
  {
   "cell_type": "code",
   "execution_count": 7,
   "metadata": {},
   "outputs": [],
   "source": [
    "sol = odeint(fun, y0, t_full)\n",
    "sol_new = sol[:1001]"
   ]
  },
  {
   "cell_type": "markdown",
   "metadata": {},
   "source": [
    "#### Plot the solutions"
   ]
  },
  {
   "cell_type": "code",
   "execution_count": 8,
   "metadata": {},
   "outputs": [
    {
     "data": {
      "image/png": "[encoded data removed]",
      "text/plain": [
       "<Figure size 432x288 with 1 Axes>"
      ]
     },
     "metadata": {
      "needs_background": "light"
     },
     "output_type": "display_data"
    }
   ],
   "source": [
    "t_discover = t_full[:1001]\n",
    "\n",
    "plt.plot(t_discover, sol_new[:, 0], 'b', label='x1(t)')\n",
    "plt.plot(t_discover, sol_new[:, 1], 'g', label='x2(t)')\n",
    "plt.legend(loc='best')\n",
    "plt.xlabel('t')\n",
    "plt.grid()\n",
    "plt.savefig('time_series.png', bbox_inches='tight')"
   ]
  },
  {
   "cell_type": "markdown",
   "metadata": {},
   "source": [
    "## Step 1: Compute the time derivative. "
   ]
  },
  {
   "cell_type": "code",
   "execution_count": 9,
   "metadata": {},
   "outputs": [],
   "source": [
    "x1 = sol_new[:,0]\n",
    "x2 = sol_new[:,1]"
   ]
  },
  {
   "cell_type": "markdown",
   "metadata": {},
   "source": [
    "**Actual** time derivatives"
   ]
  },
  {
   "cell_type": "code",
   "execution_count": 10,
   "metadata": {},
   "outputs": [],
   "source": [
    "dx1dt = -x1**3 - x2\n",
    "dx2dt =  x1    - x2**3"
   ]
  },
  {
   "cell_type": "markdown",
   "metadata": {},
   "source": [
    "**Numerically** computed derivatives from data"
   ]
  },
  {
   "cell_type": "code",
   "execution_count": 11,
   "metadata": {},
   "outputs": [],
   "source": [
    "\n",
    "dt = t_discover[1] - t_discover[0]\n",
    "dx1dt_data = np.gradient(x1, dt)\n",
    "dx2dt_data = np.gradient(x2, dt)\n",
    "# or using TVRegDiff\n",
    "# dx1dt = TVRegDiff(x1, 10, 0.1, dx=dt, plotflag=0)\n",
    "# See https://github.com/stur86/tvregdiff \n",
    "# for information on different parameters"
   ]
  },
  {
   "cell_type": "code",
   "execution_count": 12,
   "metadata": {},
   "outputs": [
    {
     "name": "stdout",
     "output_type": "stream",
     "text": [
      "R2 score: 0.9999999965191242\n",
      "MSE score: 2.8269156140981004e-10\n",
      "MAE score: 4.206507155221408e-06\n",
      "Median AE score: 3.6181352647546294e-06\n",
      "MAPE score: 0.004477342875542224\n",
      "SMAPE score: 0.0022391799382288345\n"
     ]
    }
   ],
   "source": [
    "print_scores(dx1dt, dx1dt_data)"
   ]
  },
  {
   "cell_type": "code",
   "execution_count": 13,
   "metadata": {},
   "outputs": [
    {
     "name": "stdout",
     "output_type": "stream",
     "text": [
      "R2 score: 0.9999996026514059\n",
      "MSE score: 2.195307457531667e-08\n",
      "MAE score: 9.892101759080555e-06\n",
      "Median AE score: 4.016199533329878e-06\n",
      "MAPE score: 0.009102822948966595\n",
      "SMAPE score: 0.004535741601342113\n"
     ]
    }
   ],
   "source": [
    "print_scores(dx2dt, dx2dt_data)"
   ]
  },
  {
   "cell_type": "code",
   "execution_count": 14,
   "metadata": {},
   "outputs": [
    {
     "data": {
      "text/plain": [
       "<matplotlib.legend.Legend at 0x7f47de57e550>"
      ]
     },
     "execution_count": 14,
     "metadata": {},
     "output_type": "execute_result"
    },
    {
     "data": {
      "image/png": "[encoded data removed]",
      "text/plain": [
       "<Figure size 432x288 with 1 Axes>"
      ]
     },
     "metadata": {
      "needs_background": "light"
     },
     "output_type": "display_data"
    }
   ],
   "source": [
    "plt.plot(dx1dt[-50:], label='Actual', alpha=0.4)\n",
    "plt.plot(dx1dt_data[-50:], ':', lw=2, label='from_data')\n",
    "\n",
    "plt.xlabel('Time', fontsize=14)\n",
    "plt.ylabel(r'$dx_1/dt$', fontsize=14)\n",
    "plt.legend()"
   ]
  },
  {
   "cell_type": "code",
   "execution_count": 15,
   "metadata": {},
   "outputs": [
    {
     "data": {
      "text/plain": [
       "<matplotlib.legend.Legend at 0x7f47de511a50>"
      ]
     },
     "execution_count": 15,
     "metadata": {},
     "output_type": "execute_result"
    },
    {
     "data": {
      "image/png": "[encoded data removed]",
      "text/plain": [
       "<Figure size 432x288 with 1 Axes>"
      ]
     },
     "metadata": {
      "needs_background": "light"
     },
     "output_type": "display_data"
    }
   ],
   "source": [
    "plt.plot(dx2dt[-50:], label='Actual', alpha=0.4)\n",
    "plt.plot(dx2dt_data[-50:], ':', lw=2, label='from_data')\n",
    "\n",
    "plt.xlabel('Time', fontsize=14)\n",
    "plt.ylabel(r'$dx_2/dt$', fontsize=14)\n",
    "plt.legend()"
   ]
  },
  {
   "cell_type": "markdown",
   "metadata": {},
   "source": [
    "Since the `np.gradient` derivatives are nearly identical to the original, I will be using the original derivatives."
   ]
  },
  {
   "cell_type": "code",
   "execution_count": 16,
   "metadata": {},
   "outputs": [],
   "source": [
    "X = np.zeros((sol_new.shape[0], sol_new.shape[1]))\n",
    "\n",
    "X[:, 0] = x1 # dx1/dt\n",
    "X[:, 1] = x2 # dx2/dt"
   ]
  },
  {
   "cell_type": "markdown",
   "metadata": {},
   "source": [
    "## Step 2: Construct a polynomial (or trig) basis to do the regression"
   ]
  },
  {
   "cell_type": "code",
   "execution_count": 17,
   "metadata": {},
   "outputs": [
    {
     "name": "stdout",
     "output_type": "stream",
     "text": [
      "Feature names: ['1', 'x1', 'x2', 'x1^2', 'x1 x2', 'x2^2', 'x1^3', 'x1^2 x2', 'x1 x2^2', 'x2^3']\n",
      "Feature array shape: (1001, 10)\n"
     ]
    }
   ],
   "source": [
    "from sklearn.preprocessing import PolynomialFeatures\n",
    "\n",
    "dum_data = pd.DataFrame(x1, columns=['x1'])\n",
    "dum_data['x2'] = x2\n",
    "\n",
    "deg = 3\n",
    "\n",
    "p = PolynomialFeatures(degree=deg,include_bias=True).fit(dum_data)\n",
    "xpoly = p.fit_transform(dum_data)\n",
    "newdf = pd.DataFrame(xpoly, columns = p.get_feature_names(dum_data.columns))\n",
    "\n",
    "print(\"Feature names:\", list(newdf))#newdf.columns.values.tolist())\n",
    "print(\"Feature array shape:\", newdf.shape)"
   ]
  },
  {
   "cell_type": "markdown",
   "metadata": {},
   "source": [
    "## Step 3: LASSO \n",
    "\n",
    "(or Ridge/OLS with sequential thresholding: that is first do the fit with Ridge/OLS. Then discard any features below a certain value. Do the fit again...)\n",
    "\n",
    "low alpha -> OLS\n",
    "\n",
    "high alpha -> most features zero\n",
    "\n",
    "**alpha** is a hyperparameter"
   ]
  },
  {
   "cell_type": "code",
   "execution_count": 18,
   "metadata": {},
   "outputs": [
    {
     "data": {
      "text/plain": [
       "Lasso(alpha=0.0001, copy_X=True, fit_intercept=True, max_iter=1000,\n",
       "      normalize=False, positive=False, precompute=False, random_state=None,\n",
       "      selection='cyclic', tol=0.0001, warm_start=False)"
      ]
     },
     "execution_count": 18,
     "metadata": {},
     "output_type": "execute_result"
    }
   ],
   "source": [
    "from sklearn.linear_model import Lasso\n",
    "mod = Lasso(alpha=0.0001)\n",
    "mod"
   ]
  },
  {
   "cell_type": "markdown",
   "metadata": {},
   "source": [
    "### Prepare training data"
   ]
  },
  {
   "cell_type": "code",
   "execution_count": 19,
   "metadata": {},
   "outputs": [],
   "source": [
    "newdf_train, newdf_test = newdf[:800], newdf[800:]\n",
    "dx1dt_train, dx1dt_test = dx1dt[:800], dx1dt[800:]\n",
    "dx2dt_train, dx2dt_test = dx2dt[:800], dx2dt[800:]"
   ]
  },
  {
   "cell_type": "markdown",
   "metadata": {},
   "source": [
    "### dx1/dt"
   ]
  },
  {
   "cell_type": "code",
   "execution_count": 20,
   "metadata": {},
   "outputs": [
    {
     "name": "stdout",
     "output_type": "stream",
     "text": [
      "[ 0.         -0.05576026 -0.99852418  0.         -0.         -0.01819165\n",
      " -0.50202469 -0.          0.         -0.        ]\n",
      "0.0033302444886464805\n"
     ]
    },
    {
     "data": {
      "text/plain": [
       "0.9943287924302203"
      ]
     },
     "execution_count": 20,
     "metadata": {},
     "output_type": "execute_result"
    }
   ],
   "source": [
    "mod.fit(newdf_train, dx1dt_train)\n",
    "print(mod.coef_) # should give the 3rd (x2) + 4th (x1^2) argument non-zero\n",
    "print(mod.intercept_)\n",
    "mod.score(newdf_test, dx1dt_test)"
   ]
  },
  {
   "cell_type": "code",
   "execution_count": 21,
   "metadata": {},
   "outputs": [
    {
     "data": {
      "text/html": [
       "<div>\n",
       "<style scoped>\n",
       "    .dataframe tbody tr th:only-of-type {\n",
       "        vertical-align: middle;\n",
       "    }\n",
       "\n",
       "    .dataframe tbody tr th {\n",
       "        vertical-align: top;\n",
       "    }\n",
       "\n",
       "    .dataframe thead th {\n",
       "        text-align: right;\n",
       "    }\n",
       "</style>\n",
       "<table border=\"1\" class=\"dataframe\">\n",
       "  <thead>\n",
       "    <tr style=\"text-align: right;\">\n",
       "      <th></th>\n",
       "      <th>x2</th>\n",
       "      <th>x1^3</th>\n",
       "      <th>x1</th>\n",
       "      <th>x2^2</th>\n",
       "      <th>1</th>\n",
       "      <th>x1^2</th>\n",
       "      <th>x1 x2</th>\n",
       "      <th>x1^2 x2</th>\n",
       "      <th>x1 x2^2</th>\n",
       "      <th>x2^3</th>\n",
       "    </tr>\n",
       "  </thead>\n",
       "  <tbody>\n",
       "    <tr>\n",
       "      <th>0</th>\n",
       "      <td>0.998524</td>\n",
       "      <td>0.502025</td>\n",
       "      <td>0.05576</td>\n",
       "      <td>0.018192</td>\n",
       "      <td>0.0</td>\n",
       "      <td>0.0</td>\n",
       "      <td>0.0</td>\n",
       "      <td>0.0</td>\n",
       "      <td>0.0</td>\n",
       "      <td>0.0</td>\n",
       "    </tr>\n",
       "  </tbody>\n",
       "</table>\n",
       "</div>"
      ],
      "text/plain": [
       "         x2      x1^3       x1      x2^2    1  x1^2  x1 x2  x1^2 x2  x1 x2^2  \\\n",
       "0  0.998524  0.502025  0.05576  0.018192  0.0   0.0    0.0      0.0      0.0   \n",
       "\n",
       "   x2^3  \n",
       "0   0.0  "
      ]
     },
     "execution_count": 21,
     "metadata": {},
     "output_type": "execute_result"
    }
   ],
   "source": [
    "fit_dx1 = pd.DataFrame(columns=newdf.columns)\n",
    "fit_dx1.loc[0] = mod.coef_\n",
    "fit_dx1.abs().sort_values(by=0, axis=1, ascending=False)"
   ]
  },
  {
   "cell_type": "code",
   "execution_count": 22,
   "metadata": {},
   "outputs": [
    {
     "name": "stdout",
     "output_type": "stream",
     "text": [
      "R2 score: 0.9943287924302203\n",
      "MSE score: 8.443005835967606e-05\n",
      "MAE score: 0.009127412469564916\n",
      "Median AE score: 0.00942351242559783\n",
      "MAPE score: 59.78370313040233\n",
      "SMAPE score: 9.034670809972106\n"
     ]
    }
   ],
   "source": [
    "ypred_x1 = mod.predict(newdf_test)\n",
    "print_scores(dx1dt_test, ypred_x1)"
   ]
  },
  {
   "cell_type": "markdown",
   "metadata": {},
   "source": [
    "### Identified ODE:\n",
    "\n",
    "$dx_1/dt \\sim -x_2 - x_1^3$\n",
    "\n",
    "with minor contributions from other terms that could be gotten rid of by applying a threshold"
   ]
  },
  {
   "cell_type": "code",
   "execution_count": 23,
   "metadata": {},
   "outputs": [
    {
     "data": {
      "text/html": [
       "<div>\n",
       "<style scoped>\n",
       "    .dataframe tbody tr th:only-of-type {\n",
       "        vertical-align: middle;\n",
       "    }\n",
       "\n",
       "    .dataframe tbody tr th {\n",
       "        vertical-align: top;\n",
       "    }\n",
       "\n",
       "    .dataframe thead th {\n",
       "        text-align: right;\n",
       "    }\n",
       "</style>\n",
       "<table border=\"1\" class=\"dataframe\">\n",
       "  <thead>\n",
       "    <tr style=\"text-align: right;\">\n",
       "      <th></th>\n",
       "      <th>x2</th>\n",
       "      <th>x1^3</th>\n",
       "    </tr>\n",
       "  </thead>\n",
       "  <tbody>\n",
       "    <tr>\n",
       "      <th>0</th>\n",
       "      <td>-0.998524</td>\n",
       "      <td>-0.502025</td>\n",
       "    </tr>\n",
       "  </tbody>\n",
       "</table>\n",
       "</div>"
      ],
      "text/plain": [
       "         x2      x1^3\n",
       "0 -0.998524 -0.502025"
      ]
     },
     "execution_count": 23,
     "metadata": {},
     "output_type": "execute_result"
    }
   ],
   "source": [
    "# Drop features with absolute values less than 0.1\n",
    "dx1_thr = fit_dx1[fit_dx1.columns[fit_dx1.abs().max() > 0.1]]\n",
    "dx1_thr"
   ]
  },
  {
   "cell_type": "code",
   "execution_count": 24,
   "metadata": {},
   "outputs": [
    {
     "data": {
      "image/png": "[encoded data removed]",
      "text/plain": [
       "<Figure size 432x288 with 1 Axes>"
      ]
     },
     "metadata": {
      "needs_background": "light"
     },
     "output_type": "display_data"
    }
   ],
   "source": [
    "# PLOT results\n",
    "t_test  = np.linspace(8, 10, 201)\n",
    "\n",
    "#plt.plot(t, sol_new[:, 1], label='Actual', alpha = 0.4)\n",
    "#plt.plot(ypred, label='Actual')\n",
    "plt.plot(t_test, ypred_x1, 'r--', lw = 2, label='Prediction')\n",
    "plt.plot(t_discover, dx1dt, 'g', label='Actual', alpha=0.4)\n",
    "plt.axvline(x = 8, color='k', linestyle='--')\n",
    "plt.xlabel('Time', fontsize=14)\n",
    "plt.ylabel(r'$dx_1/dt$', fontsize=14)\n",
    "plt.grid()\n",
    "plt.legend()\n",
    "plt.savefig('dx1dt_fit.png', bbox_inches='tight')"
   ]
  },
  {
   "cell_type": "markdown",
   "metadata": {},
   "source": [
    "### dx2/dt"
   ]
  },
  {
   "cell_type": "code",
   "execution_count": 25,
   "metadata": {},
   "outputs": [
    {
     "name": "stdout",
     "output_type": "stream",
     "text": [
      "[ 0.          0.99491832 -0.02198579 -0.         -0.         -0.04791986\n",
      "  0.          0.         -0.         -0.82689872]\n",
      "0.0022126622685510883\n"
     ]
    },
    {
     "data": {
      "text/plain": [
       "0.9965028656692734"
      ]
     },
     "execution_count": 25,
     "metadata": {},
     "output_type": "execute_result"
    }
   ],
   "source": [
    "mod.fit(newdf_train, dx2dt_train)\n",
    "print(mod.coef_) # should give the 2nd (x1) + last (x2^3) argument non-zero\n",
    "print(mod.intercept_)\n",
    "mod.score(newdf_test, dx2dt_test)"
   ]
  },
  {
   "cell_type": "code",
   "execution_count": 26,
   "metadata": {},
   "outputs": [
    {
     "data": {
      "text/html": [
       "<div>\n",
       "<style scoped>\n",
       "    .dataframe tbody tr th:only-of-type {\n",
       "        vertical-align: middle;\n",
       "    }\n",
       "\n",
       "    .dataframe tbody tr th {\n",
       "        vertical-align: top;\n",
       "    }\n",
       "\n",
       "    .dataframe thead th {\n",
       "        text-align: right;\n",
       "    }\n",
       "</style>\n",
       "<table border=\"1\" class=\"dataframe\">\n",
       "  <thead>\n",
       "    <tr style=\"text-align: right;\">\n",
       "      <th></th>\n",
       "      <th>x1</th>\n",
       "      <th>x2^3</th>\n",
       "      <th>x2^2</th>\n",
       "      <th>x2</th>\n",
       "      <th>1</th>\n",
       "      <th>x1^2</th>\n",
       "      <th>x1 x2</th>\n",
       "      <th>x1^3</th>\n",
       "      <th>x1^2 x2</th>\n",
       "      <th>x1 x2^2</th>\n",
       "    </tr>\n",
       "  </thead>\n",
       "  <tbody>\n",
       "    <tr>\n",
       "      <th>0</th>\n",
       "      <td>0.994918</td>\n",
       "      <td>0.826899</td>\n",
       "      <td>0.04792</td>\n",
       "      <td>0.021986</td>\n",
       "      <td>0.0</td>\n",
       "      <td>0.0</td>\n",
       "      <td>0.0</td>\n",
       "      <td>0.0</td>\n",
       "      <td>0.0</td>\n",
       "      <td>0.0</td>\n",
       "    </tr>\n",
       "  </tbody>\n",
       "</table>\n",
       "</div>"
      ],
      "text/plain": [
       "         x1      x2^3     x2^2        x2    1  x1^2  x1 x2  x1^3  x1^2 x2  \\\n",
       "0  0.994918  0.826899  0.04792  0.021986  0.0   0.0    0.0   0.0      0.0   \n",
       "\n",
       "   x1 x2^2  \n",
       "0      0.0  "
      ]
     },
     "execution_count": 26,
     "metadata": {},
     "output_type": "execute_result"
    }
   ],
   "source": [
    "fit_dx2 = pd.DataFrame(columns=newdf.columns)\n",
    "fit_dx2.loc[0] = mod.coef_\n",
    "fit_dx2.abs().sort_values(by=0, axis=1, ascending=False) "
   ]
  },
  {
   "cell_type": "code",
   "execution_count": 27,
   "metadata": {},
   "outputs": [
    {
     "name": "stdout",
     "output_type": "stream",
     "text": [
      "R2 score: 0.9965028656692734\n",
      "MSE score: 1.3128657613492761e-05\n",
      "MAE score: 0.003284761866157685\n",
      "Median AE score: 0.0036951175861815594\n",
      "MAPE score: 1.962931213051049\n",
      "SMAPE score: 0.9952953131151921\n"
     ]
    }
   ],
   "source": [
    "ypred_x2 = mod.predict(newdf_test)\n",
    "print_scores(dx2dt_test, ypred_x2)"
   ]
  },
  {
   "cell_type": "markdown",
   "metadata": {},
   "source": [
    "### Identified ODE:\n",
    "\n",
    "$dx_2/dt \\sim x_1 - x_2^3$\n",
    "\n",
    "with minor contributions from other terms that could be gotten rid of by applying a threshold"
   ]
  },
  {
   "cell_type": "code",
   "execution_count": 28,
   "metadata": {},
   "outputs": [
    {
     "data": {
      "text/html": [
       "<div>\n",
       "<style scoped>\n",
       "    .dataframe tbody tr th:only-of-type {\n",
       "        vertical-align: middle;\n",
       "    }\n",
       "\n",
       "    .dataframe tbody tr th {\n",
       "        vertical-align: top;\n",
       "    }\n",
       "\n",
       "    .dataframe thead th {\n",
       "        text-align: right;\n",
       "    }\n",
       "</style>\n",
       "<table border=\"1\" class=\"dataframe\">\n",
       "  <thead>\n",
       "    <tr style=\"text-align: right;\">\n",
       "      <th></th>\n",
       "      <th>x1</th>\n",
       "      <th>x2^3</th>\n",
       "    </tr>\n",
       "  </thead>\n",
       "  <tbody>\n",
       "    <tr>\n",
       "      <th>0</th>\n",
       "      <td>0.994918</td>\n",
       "      <td>-0.826899</td>\n",
       "    </tr>\n",
       "  </tbody>\n",
       "</table>\n",
       "</div>"
      ],
      "text/plain": [
       "         x1      x2^3\n",
       "0  0.994918 -0.826899"
      ]
     },
     "execution_count": 28,
     "metadata": {},
     "output_type": "execute_result"
    }
   ],
   "source": [
    "# Drop features with absolute values less than 0.1\n",
    "dx2_thr = fit_dx2[fit_dx2.columns[fit_dx2.abs().max() > 0.1]]\n",
    "dx2_thr"
   ]
  },
  {
   "cell_type": "code",
   "execution_count": 29,
   "metadata": {},
   "outputs": [
    {
     "data": {
      "image/png": "[encoded data removed]",
      "text/plain": [
       "<Figure size 432x288 with 1 Axes>"
      ]
     },
     "metadata": {
      "needs_background": "light"
     },
     "output_type": "display_data"
    }
   ],
   "source": [
    "# PLOT results\n",
    "t_test  = np.linspace(8, 10, 201)\n",
    "\n",
    "#plt.plot(t, sol_new[:, 0], label='Actual', alpha = 0.4)\n",
    "#plt.plot(ypred, label='Actual')\n",
    "plt.plot(t_test, ypred_x2, 'r--', lw = 2, label='Prediction')\n",
    "plt.plot(t_discover, dx2dt, 'g', label='Actual', alpha = 0.4)\n",
    "plt.axvline(x = 8, color='k', linestyle='--')\n",
    "plt.xlabel('Time', fontsize=14)\n",
    "plt.ylabel(r'$dx_2/dt$', fontsize=14)\n",
    "plt.grid()\n",
    "plt.legend()\n",
    "plt.savefig('dx2dt_fit.png', bbox_inches='tight')"
   ]
  },
  {
   "cell_type": "code",
   "execution_count": null,
   "metadata": {},
   "outputs": [],
   "source": []
  },
  {
   "cell_type": "code",
   "execution_count": null,
   "metadata": {},
   "outputs": [],
   "source": []
  },
  {
   "cell_type": "markdown",
   "metadata": {},
   "source": [
    "# 2. Forecasting using SINDy"
   ]
  },
  {
   "cell_type": "markdown",
   "metadata": {},
   "source": [
    "Now that we have discovered the differential equations, we can use the ODE solver to forecast the future."
   ]
  },
  {
   "cell_type": "code",
   "execution_count": 30,
   "metadata": {},
   "outputs": [],
   "source": [
    "# Manually entering values for coefficients but this can be automated\n",
    "def fun_forecast(y, t):\n",
    "    x1, x2 = y\n",
    "    dxdt = [-0.5*(x1**3) - 0.9985*x2, \n",
    "            0.995*x1     - 0.8269*x2**3]\n",
    "    return dxdt\n",
    "\n",
    "t_forecast = np.linspace(10, 15, 500)\n",
    "\n",
    "y0 = [x1[-1], x2[-1]]\n",
    "\n",
    "sol_forecast = odeint(fun_forecast, y0, t_forecast)"
   ]
  },
  {
   "cell_type": "code",
   "execution_count": 31,
   "metadata": {},
   "outputs": [
    {
     "data": {
      "image/png": "[encoded data removed]",
      "text/plain": [
       "<Figure size 432x288 with 1 Axes>"
      ]
     },
     "metadata": {
      "needs_background": "light"
     },
     "output_type": "display_data"
    }
   ],
   "source": [
    "plt.plot(t_forecast, sol_forecast[:, 0], 'b', label='x1(t)')\n",
    "plt.plot(t_forecast, sol_forecast[:, 1], 'g', label='x2(t)')\n",
    "plt.legend(loc='best')\n",
    "plt.xlabel('t')\n",
    "plt.grid()"
   ]
  },
  {
   "cell_type": "code",
   "execution_count": 32,
   "metadata": {},
   "outputs": [
    {
     "data": {
      "image/png": "[encoded data removed]",
      "text/plain": [
       "<Figure size 432x288 with 1 Axes>"
      ]
     },
     "metadata": {
      "needs_background": "light"
     },
     "output_type": "display_data"
    }
   ],
   "source": [
    "plt.plot(t_forecast, sol_forecast[:, 0], 'b--', label='Forecast')\n",
    "plt.plot(t_full, sol[:, 0], 'g', label='Actual', alpha=0.4)\n",
    "plt.axvline(x = 10, color='k', linestyle='--')\n",
    "plt.legend(loc='best')\n",
    "plt.xlabel('Time', fontsize=14)\n",
    "plt.ylabel(r'$x_1$', fontsize=14)\n",
    "plt.grid()"
   ]
  },
  {
   "cell_type": "code",
   "execution_count": 33,
   "metadata": {},
   "outputs": [
    {
     "data": {
      "image/png": "[encoded data removed]",
      "text/plain": [
       "<Figure size 432x288 with 1 Axes>"
      ]
     },
     "metadata": {
      "needs_background": "light"
     },
     "output_type": "display_data"
    }
   ],
   "source": [
    "plt.plot(t_forecast, sol_forecast[:, 1], 'b--', label='Forecast')\n",
    "plt.plot(t_full, sol[:, 1], 'g', label='Actual', alpha=0.4)\n",
    "plt.axvline(x = 10, color='k', linestyle='--')\n",
    "plt.legend(loc='best')\n",
    "plt.xlabel('Time', fontsize=14)\n",
    "plt.ylabel(r'$x_2$', fontsize=14)\n",
    "plt.grid()"
   ]
  },
  {
   "cell_type": "code",
   "execution_count": 34,
   "metadata": {},
   "outputs": [],
   "source": [
    "y_pred1, y_pred2 = sol_forecast[:, 0], sol_forecast[:, 1]\n",
    "y_test1, y_test2 = sol[1001:, 0],      sol[1001:, 1]"
   ]
  },
  {
   "cell_type": "code",
   "execution_count": 35,
   "metadata": {},
   "outputs": [
    {
     "name": "stdout",
     "output_type": "stream",
     "text": [
      "R2 score: 0.9986014512322046\n",
      "MSE score: 2.9194295629861532e-05\n",
      "MAE score: 0.004498499556886438\n",
      "Median AE score: 0.004095611629683124\n",
      "MAPE score: 8.356195293001417\n",
      "SMAPE score: 3.427959986309787\n",
      "R2 score: 0.9988787480251635\n",
      "MSE score: 2.8082044451838518e-05\n",
      "MAE score: 0.004387715903581068\n",
      "Median AE score: 0.0032235369101030545\n",
      "MAPE score: 8.17055503299457\n",
      "SMAPE score: 3.0643658219157226\n"
     ]
    }
   ],
   "source": [
    "for (y_test, y_pred) in zip([y_test1, y_test2], [y_pred1, y_pred2]):\n",
    "    print(f\"R2 score: {r2_score(y_test, y_pred)}\")\n",
    "    print(f\"MSE score: {mean_squared_error(y_test, y_pred)}\")\n",
    "    print(f\"MAE score: {mean_absolute_error(y_test, y_pred)}\")\n",
    "    print(f\"Median AE score: {median_absolute_error(y_test, y_pred)}\")\n",
    "    print(f\"MAPE score: {mean_absolute_percentage_error(y_test, y_pred)}\")\n",
    "    print(f\"SMAPE score: {symmetric_mape(y_test, y_pred)}\")"
   ]
  },
  {
   "cell_type": "code",
   "execution_count": null,
   "metadata": {},
   "outputs": [],
   "source": []
  }
 ],
 "metadata": {
  "kernelspec": {
   "display_name": "Python 3",
   "language": "python",
   "name": "python3"
  },
  "language_info": {
   "codemirror_mode": {
    "name": "ipython",
    "version": 3
   },
   "file_extension": ".py",
   "mimetype": "text/x-python",
   "name": "python",
   "nbconvert_exporter": "python",
   "pygments_lexer": "ipython3",
   "version": "3.7.4"
  }
 },
 "nbformat": 4,
 "nbformat_minor": 4
}
